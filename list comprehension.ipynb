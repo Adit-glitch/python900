{
 "cells": [
  {
   "cell_type": "markdown",
   "id": "f131549a",
   "metadata": {},
   "source": [
    "# List comprehension\n",
    "# syntax\n",
    "``` python\n",
    "[expression for item in iterales]\n",
    "```"
   ]
  },
  {
   "cell_type": "code",
   "execution_count": 3,
   "id": "0d96a17c",
   "metadata": {},
   "outputs": [
    {
     "data": {
      "text/plain": [
       "1"
      ]
     },
     "execution_count": 3,
     "metadata": {},
     "output_type": "execute_result"
    }
   ],
   "source": [
    "# Non determinanistic random number generation\n",
    "import random\n",
    "random.randint(0, 5) # random number between 0 and 5 both included."
   ]
  },
  {
   "cell_type": "code",
   "execution_count": 6,
   "id": "c128a8d8",
   "metadata": {},
   "outputs": [
    {
     "data": {
      "text/plain": [
       "3"
      ]
     },
     "execution_count": 6,
     "metadata": {},
     "output_type": "execute_result"
    }
   ],
   "source": [
    "# seed can be any number, same number gives the same value in all computer\n",
    "random.seed(2023) # deterministic pseudo random number generation\n",
    "random.randint(0,5)"
   ]
  },
  {
   "cell_type": "code",
   "execution_count": 9,
   "id": "0dab4a07",
   "metadata": {},
   "outputs": [],
   "source": [
    "numbers = []\n",
    "random.seed(3)\n",
    "for i in range(10):\n",
    "    numbers.append(random.randint(0, 10))"
   ]
  },
  {
   "cell_type": "code",
   "execution_count": 10,
   "id": "808eb2ea",
   "metadata": {},
   "outputs": [
    {
     "name": "stdout",
     "output_type": "stream",
     "text": [
      "[3, 9, 8, 2, 5, 9, 7, 10, 9, 1]\n"
     ]
    }
   ],
   "source": [
    "print (numbers)"
   ]
  },
  {
   "cell_type": "code",
   "execution_count": 12,
   "id": "2f348b71",
   "metadata": {},
   "outputs": [],
   "source": [
    "\n",
    "sq = []\n",
    "for item in numbers:\n",
    "    sq.append(item ** 2)"
   ]
  },
  {
   "cell_type": "code",
   "execution_count": 13,
   "id": "86732532",
   "metadata": {},
   "outputs": [
    {
     "name": "stdout",
     "output_type": "stream",
     "text": [
      "[9, 81, 64, 4, 25, 81, 49, 100, 81, 1]\n"
     ]
    }
   ],
   "source": [
    "print (sq)"
   ]
  },
  {
   "cell_type": "code",
   "execution_count": 14,
   "id": "cf1996cb",
   "metadata": {},
   "outputs": [
    {
     "data": {
      "text/plain": [
       "[9, 81, 64, 4, 25, 81, 49, 100, 81, 1]"
      ]
     },
     "execution_count": 14,
     "metadata": {},
     "output_type": "execute_result"
    }
   ],
   "source": [
    "# list comprehension\n",
    "[item ** 2 for item in numbers] # pythonic way, faster then loop"
   ]
  },
  {
   "cell_type": "code",
   "execution_count": 15,
   "id": "c6ec81d0",
   "metadata": {},
   "outputs": [
    {
     "data": {
      "text/plain": [
       "[27, 729, 512, 8, 125, 729, 343, 1000, 729, 1]"
      ]
     },
     "execution_count": 15,
     "metadata": {},
     "output_type": "execute_result"
    }
   ],
   "source": [
    "[item ** 3 for item in numbers]"
   ]
  },
  {
   "cell_type": "markdown",
   "id": "01cce841",
   "metadata": {},
   "source": []
  },
  {
   "cell_type": "code",
   "execution_count": 16,
   "id": "8f927e7b",
   "metadata": {},
   "outputs": [
    {
     "name": "stdout",
     "output_type": "stream",
     "text": [
      "['apple', 'banana', 'mango', 'orange']\n"
     ]
    }
   ],
   "source": [
    "fruits = ['APPLE', 'BANANA', 'MANGO', 'ORANGE']\n",
    "lower_fruits = [fruit.lower() for fruit in fruits]\n",
    "print(lower_fruits)"
   ]
  },
  {
   "cell_type": "markdown",
   "id": "1b72ee98",
   "metadata": {},
   "source": [
    "# list comprehension with if\n",
    "# syntax\n",
    "``` python\n",
    "[expression for item in iterable if True]\n",
    "```"
   ]
  },
  {
   "cell_type": "code",
   "execution_count": 20,
   "id": "e0bfa42c",
   "metadata": {},
   "outputs": [],
   "source": [
    "data = range(2, 15)"
   ]
  },
  {
   "cell_type": "code",
   "execution_count": 21,
   "id": "60911f4d",
   "metadata": {},
   "outputs": [
    {
     "data": {
      "text/plain": [
       "[2, 4, 6, 8, 10, 12, 14]"
      ]
     },
     "execution_count": 21,
     "metadata": {},
     "output_type": "execute_result"
    }
   ],
   "source": [
    "[item for item in data if item % 2 == 0] # get the even number from data"
   ]
  },
  {
   "cell_type": "code",
   "execution_count": 22,
   "id": "716f354b",
   "metadata": {},
   "outputs": [
    {
     "data": {
      "text/plain": [
       "[3, 5, 7, 9, 11, 13]"
      ]
     },
     "execution_count": 22,
     "metadata": {},
     "output_type": "execute_result"
    }
   ],
   "source": [
    "[item for item in data if item %2 != 0] # get the odd number from data"
   ]
  },
  {
   "cell_type": "markdown",
   "id": "5e48d329",
   "metadata": {},
   "source": []
  },
  {
   "cell_type": "markdown",
   "id": "97094558",
   "metadata": {},
   "source": [
    "# list comprehension with if else\n",
    "# syntax\n",
    "```python\n",
    "[expression if True else Expression for item in iterables]\n",
    "```"
   ]
  },
  {
   "cell_type": "code",
   "execution_count": 24,
   "id": "4b212ff2",
   "metadata": {},
   "outputs": [
    {
     "data": {
      "text/plain": [
       "[0, 0, 0, 0, 0, 0, 1, 2, 3, 4]"
      ]
     },
     "execution_count": 24,
     "metadata": {},
     "output_type": "execute_result"
    }
   ],
   "source": [
    "data = range(-5, 5)\n",
    "# if item <=0 cha vane 0 rakne natra jastako testai rakne\n",
    "[0 if item <=0 else item for item in data]"
   ]
  },
  {
   "cell_type": "code",
   "execution_count": 25,
   "id": "35cae03f",
   "metadata": {},
   "outputs": [
    {
     "name": "stdout",
     "output_type": "stream",
     "text": [
      "['orange', 'banana', 'orange', 'orange', 'orange']\n"
     ]
    }
   ],
   "source": [
    "fruits = ['apple', 'banana', 'cherry', 'kiwi', 'mango']\n",
    "newlist = [x if x == 'banana' else 'orange' for x in fruits]\n",
    "print(newlist)"
   ]
  },
  {
   "cell_type": "code",
   "execution_count": null,
   "id": "dcca4402",
   "metadata": {},
   "outputs": [],
   "source": []
  }
 ],
 "metadata": {
  "kernelspec": {
   "display_name": "Python 3 (ipykernel)",
   "language": "python",
   "name": "python3"
  },
  "language_info": {
   "codemirror_mode": {
    "name": "ipython",
    "version": 3
   },
   "file_extension": ".py",
   "mimetype": "text/x-python",
   "name": "python",
   "nbconvert_exporter": "python",
   "pygments_lexer": "ipython3",
   "version": "3.10.11"
  }
 },
 "nbformat": 4,
 "nbformat_minor": 5
}

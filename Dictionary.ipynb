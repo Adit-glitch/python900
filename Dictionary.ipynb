{
 "cells": [
  {
   "cell_type": "markdown",
   "id": "9989e612",
   "metadata": {},
   "source": [
    "# Dictionary\n",
    "* Dictionary are used to store data values in key:values pairs.\n",
    "* A dictionay is a collection which is ordered, changeable and donot allow duplicate keys\n",
    "# syntax\n",
    "```python\n",
    "{\n",
    "    key: value\n",
    "}\n",
    "```"
   ]
  },
  {
   "cell_type": "code",
   "execution_count": 1,
   "id": "48b8c51a",
   "metadata": {},
   "outputs": [],
   "source": [
    "# creating empty dictionary\n",
    "d1 = {}"
   ]
  },
  {
   "cell_type": "code",
   "execution_count": 2,
   "id": "a1d17f2c",
   "metadata": {},
   "outputs": [
    {
     "data": {
      "text/plain": [
       "dict"
      ]
     },
     "execution_count": 2,
     "metadata": {},
     "output_type": "execute_result"
    }
   ],
   "source": [
    "type(d1)"
   ]
  },
  {
   "cell_type": "code",
   "execution_count": 3,
   "id": "b7c6b000",
   "metadata": {},
   "outputs": [],
   "source": [
    "d2 = dict()"
   ]
  },
  {
   "cell_type": "code",
   "execution_count": 5,
   "id": "1f64222e",
   "metadata": {},
   "outputs": [
    {
     "data": {
      "text/plain": [
       "dict"
      ]
     },
     "execution_count": 5,
     "metadata": {},
     "output_type": "execute_result"
    }
   ],
   "source": [
    "type(d2)"
   ]
  },
  {
   "cell_type": "markdown",
   "id": "22fb6eff",
   "metadata": {},
   "source": [
    "# create your own dictionary"
   ]
  },
  {
   "cell_type": "code",
   "execution_count": 6,
   "id": "196887a2",
   "metadata": {},
   "outputs": [],
   "source": [
    "about = {\n",
    "    'name' : 'Kshitiz',\n",
    "    'teaches' : ['python', 'Data Science'],\n",
    "    'time' : 900   \n",
    "    \n",
    "}"
   ]
  },
  {
   "cell_type": "code",
   "execution_count": 7,
   "id": "51bdfac5",
   "metadata": {},
   "outputs": [
    {
     "data": {
      "text/plain": [
       "{'name': 'Kshitiz', 'teaches': ['python', 'Data Science'], 'time': 900}"
      ]
     },
     "execution_count": 7,
     "metadata": {},
     "output_type": "execute_result"
    }
   ],
   "source": [
    "about"
   ]
  },
  {
   "cell_type": "code",
   "execution_count": 8,
   "id": "5db152a1",
   "metadata": {},
   "outputs": [
    {
     "data": {
      "text/plain": [
       "dict_values(['Kshitiz', ['python', 'Data Science'], 900])"
      ]
     },
     "execution_count": 8,
     "metadata": {},
     "output_type": "execute_result"
    }
   ],
   "source": [
    "about.values()"
   ]
  },
  {
   "cell_type": "code",
   "execution_count": 9,
   "id": "f0d2bd4b",
   "metadata": {},
   "outputs": [
    {
     "data": {
      "text/plain": [
       "dict_keys(['name', 'teaches', 'time'])"
      ]
     },
     "execution_count": 9,
     "metadata": {},
     "output_type": "execute_result"
    }
   ],
   "source": [
    "about.keys()"
   ]
  },
  {
   "cell_type": "code",
   "execution_count": 10,
   "id": "0261a9b0",
   "metadata": {},
   "outputs": [
    {
     "data": {
      "text/plain": [
       "dict_items([('name', 'Kshitiz'), ('teaches', ['python', 'Data Science']), ('time', 900)])"
      ]
     },
     "execution_count": 10,
     "metadata": {},
     "output_type": "execute_result"
    }
   ],
   "source": [
    "about.items()"
   ]
  },
  {
   "cell_type": "markdown",
   "id": "6504a225",
   "metadata": {},
   "source": [
    "# tuple unpacking"
   ]
  },
  {
   "cell_type": "code",
   "execution_count": 11,
   "id": "388d1c19",
   "metadata": {},
   "outputs": [],
   "source": [
    "a, b = (9,5)"
   ]
  },
  {
   "cell_type": "code",
   "execution_count": 12,
   "id": "ecce4c8c",
   "metadata": {},
   "outputs": [
    {
     "data": {
      "text/plain": [
       "9"
      ]
     },
     "execution_count": 12,
     "metadata": {},
     "output_type": "execute_result"
    }
   ],
   "source": [
    "a\n"
   ]
  },
  {
   "cell_type": "code",
   "execution_count": 13,
   "id": "815adc90",
   "metadata": {},
   "outputs": [
    {
     "data": {
      "text/plain": [
       "5"
      ]
     },
     "execution_count": 13,
     "metadata": {},
     "output_type": "execute_result"
    }
   ],
   "source": [
    "b"
   ]
  },
  {
   "cell_type": "code",
   "execution_count": 14,
   "id": "4673dbea",
   "metadata": {},
   "outputs": [
    {
     "name": "stdout",
     "output_type": "stream",
     "text": [
      "('name', 'Kshitiz')\n",
      "('teaches', ['python', 'Data Science'])\n",
      "('time', 900)\n"
     ]
    }
   ],
   "source": [
    "for item in about.items():\n",
    "    print(item)"
   ]
  },
  {
   "cell_type": "code",
   "execution_count": 15,
   "id": "1cdaa868",
   "metadata": {},
   "outputs": [
    {
     "name": "stdout",
     "output_type": "stream",
     "text": [
      "The key is name and the value is Kshitiz\n",
      "The key is teaches and the value is ['python', 'Data Science']\n",
      "The key is time and the value is 900\n"
     ]
    }
   ],
   "source": [
    "for key,value in about.items(): # unpacking\n",
    "    print(f'The key is {key} and the value is {value}')"
   ]
  },
  {
   "cell_type": "code",
   "execution_count": 16,
   "id": "17db85c7",
   "metadata": {},
   "outputs": [],
   "source": [
    "d3 = {\n",
    "    1 : 'Ram',\n",
    "    2 : 'shyam',\n",
    "    3 : 'Sita',\n",
    "    4 : 'Hari',\n",
    "    5 : 'Laxman',\n",
    "    6 : 'Ravan'\n",
    "}"
   ]
  },
  {
   "cell_type": "code",
   "execution_count": 19,
   "id": "b0e6f686",
   "metadata": {},
   "outputs": [
    {
     "name": "stdout",
     "output_type": "stream",
     "text": [
      "The role number is 1 and the name is Ram\n",
      "The role number is 2 and the name is shyam\n",
      "The role number is 3 and the name is Sita\n",
      "The role number is 4 and the name is Hari\n",
      "The role number is 5 and the name is Laxman\n",
      "The role number is 6 and the name is Ravan\n"
     ]
    }
   ],
   "source": [
    "for key,value in d3.items():\n",
    "    print(f'The role number is {key} and the name is {value}')"
   ]
  },
  {
   "cell_type": "markdown",
   "id": "a34f0e31",
   "metadata": {},
   "source": [
    "# Ascessing value using keys"
   ]
  },
  {
   "cell_type": "code",
   "execution_count": 20,
   "id": "42eb0577",
   "metadata": {},
   "outputs": [],
   "source": [
    "about = {\n",
    "    'name' : 'Kshitiz',\n",
    "    'teaches' : ['python', 'Data Science'],\n",
    "    'time' : 900   \n",
    "    \n",
    "}"
   ]
  },
  {
   "cell_type": "code",
   "execution_count": 21,
   "id": "8423cd65",
   "metadata": {},
   "outputs": [
    {
     "data": {
      "text/plain": [
       "'Kshitiz'"
      ]
     },
     "execution_count": 21,
     "metadata": {},
     "output_type": "execute_result"
    }
   ],
   "source": [
    "about['name']"
   ]
  },
  {
   "cell_type": "code",
   "execution_count": 22,
   "id": "ca12d515",
   "metadata": {},
   "outputs": [
    {
     "data": {
      "text/plain": [
       "'Kshitiz'"
      ]
     },
     "execution_count": 22,
     "metadata": {},
     "output_type": "execute_result"
    }
   ],
   "source": [
    "about.get('name')"
   ]
  },
  {
   "cell_type": "code",
   "execution_count": 23,
   "id": "5b225322",
   "metadata": {},
   "outputs": [],
   "source": [
    "d3 = {\n",
    "    1 : 'Ram',\n",
    "    2 : 'shyam',\n",
    "    3 : 'Sita',\n",
    "    4 : 'Hari',\n",
    "    5 : 'Laxman',\n",
    "    6 : 'Ravan'\n",
    "}"
   ]
  },
  {
   "cell_type": "code",
   "execution_count": 24,
   "id": "24b4f832",
   "metadata": {},
   "outputs": [
    {
     "data": {
      "text/plain": [
       "'Ram'"
      ]
     },
     "execution_count": 24,
     "metadata": {},
     "output_type": "execute_result"
    }
   ],
   "source": [
    "d3[1]"
   ]
  },
  {
   "cell_type": "code",
   "execution_count": 25,
   "id": "d5bbdc25",
   "metadata": {},
   "outputs": [
    {
     "data": {
      "text/plain": [
       "'Ram'"
      ]
     },
     "execution_count": 25,
     "metadata": {},
     "output_type": "execute_result"
    }
   ],
   "source": [
    "d3.get(1)"
   ]
  },
  {
   "cell_type": "code",
   "execution_count": 30,
   "id": "df2d01e8",
   "metadata": {},
   "outputs": [],
   "source": [
    "d3[8] = 'Test'"
   ]
  },
  {
   "cell_type": "code",
   "execution_count": 31,
   "id": "beaa6ae0",
   "metadata": {},
   "outputs": [
    {
     "data": {
      "text/plain": [
       "{1: 'Ram',\n",
       " 2: 'shyam',\n",
       " 3: 'Sita',\n",
       " 4: 'Hari',\n",
       " 5: 'Laxman',\n",
       " 6: 'Ravan',\n",
       " 8: 'Test'}"
      ]
     },
     "execution_count": 31,
     "metadata": {},
     "output_type": "execute_result"
    }
   ],
   "source": [
    "d3"
   ]
  },
  {
   "cell_type": "code",
   "execution_count": 34,
   "id": "36230578",
   "metadata": {},
   "outputs": [],
   "source": [
    "new_test = {\n",
    "    1.2 : 'Ram'\n",
    "}"
   ]
  },
  {
   "cell_type": "code",
   "execution_count": 35,
   "id": "0a921095",
   "metadata": {},
   "outputs": [
    {
     "data": {
      "text/plain": [
       "{1.2: 'Ram'}"
      ]
     },
     "execution_count": 35,
     "metadata": {},
     "output_type": "execute_result"
    }
   ],
   "source": [
    "new_test"
   ]
  },
  {
   "cell_type": "markdown",
   "id": "9d30f349",
   "metadata": {},
   "source": [
    "# Adding key value pairs in dictionary"
   ]
  },
  {
   "cell_type": "code",
   "execution_count": 42,
   "id": "00ebaed9",
   "metadata": {},
   "outputs": [
    {
     "data": {
      "text/plain": [
       "2875779484992"
      ]
     },
     "execution_count": 42,
     "metadata": {},
     "output_type": "execute_result"
    }
   ],
   "source": [
    "about = {\n",
    "    'name' : 'Kshitiz',\n",
    "    'teaches' : ['python', 'Data Science'],\n",
    "    'time' : 900   \n",
    "    \n",
    "}\n",
    "id(about)"
   ]
  },
  {
   "cell_type": "code",
   "execution_count": 43,
   "id": "14a54bd6",
   "metadata": {},
   "outputs": [],
   "source": [
    "about['experience'] = 4"
   ]
  },
  {
   "cell_type": "code",
   "execution_count": 44,
   "id": "ebf4a59f",
   "metadata": {},
   "outputs": [
    {
     "data": {
      "text/plain": [
       "{'name': 'Kshitiz',\n",
       " 'teaches': ['python', 'Data Science'],\n",
       " 'time': 900,\n",
       " 'experience': 4}"
      ]
     },
     "execution_count": 44,
     "metadata": {},
     "output_type": "execute_result"
    }
   ],
   "source": [
    "about"
   ]
  },
  {
   "cell_type": "code",
   "execution_count": 45,
   "id": "58e66d97",
   "metadata": {},
   "outputs": [
    {
     "data": {
      "text/plain": [
       "2875779484992"
      ]
     },
     "execution_count": 45,
     "metadata": {},
     "output_type": "execute_result"
    }
   ],
   "source": [
    "id(about)"
   ]
  },
  {
   "cell_type": "code",
   "execution_count": 48,
   "id": "73699305",
   "metadata": {},
   "outputs": [],
   "source": [
    "# replace the value of experience\n",
    "about['experience'] = 5"
   ]
  },
  {
   "cell_type": "code",
   "execution_count": 47,
   "id": "6dbb4683",
   "metadata": {},
   "outputs": [
    {
     "data": {
      "text/plain": [
       "{'name': 'Kshitiz',\n",
       " 'teaches': ['python', 'Data Science'],\n",
       " 'time': 900,\n",
       " 'experience': 5}"
      ]
     },
     "execution_count": 47,
     "metadata": {},
     "output_type": "execute_result"
    }
   ],
   "source": [
    "about\n"
   ]
  },
  {
   "cell_type": "code",
   "execution_count": 51,
   "id": "f011a1dd",
   "metadata": {},
   "outputs": [],
   "source": [
    "about.update({'age' : 26}) # creating new key and value"
   ]
  },
  {
   "cell_type": "code",
   "execution_count": 50,
   "id": "2e27eda4",
   "metadata": {},
   "outputs": [
    {
     "data": {
      "text/plain": [
       "{'name': 'Kshitiz',\n",
       " 'teaches': ['python', 'Data Science'],\n",
       " 'time': 900,\n",
       " 'experience': 5,\n",
       " 'age': 26}"
      ]
     },
     "execution_count": 50,
     "metadata": {},
     "output_type": "execute_result"
    }
   ],
   "source": [
    "about\n"
   ]
  },
  {
   "cell_type": "code",
   "execution_count": 52,
   "id": "adc04fbe",
   "metadata": {},
   "outputs": [],
   "source": [
    "about.update({'age' : 24})"
   ]
  },
  {
   "cell_type": "code",
   "execution_count": 53,
   "id": "eb93c720",
   "metadata": {},
   "outputs": [
    {
     "data": {
      "text/plain": [
       "{'name': 'Kshitiz',\n",
       " 'teaches': ['python', 'Data Science'],\n",
       " 'time': 900,\n",
       " 'experience': 5,\n",
       " 'age': 24}"
      ]
     },
     "execution_count": 53,
     "metadata": {},
     "output_type": "execute_result"
    }
   ],
   "source": [
    "about\n"
   ]
  },
  {
   "cell_type": "code",
   "execution_count": 54,
   "id": "cd81ce92",
   "metadata": {},
   "outputs": [],
   "source": [
    "\n",
    "about['teaches'].append('AI')"
   ]
  },
  {
   "cell_type": "code",
   "execution_count": 55,
   "id": "37484b6d",
   "metadata": {},
   "outputs": [
    {
     "data": {
      "text/plain": [
       "{'name': 'Kshitiz',\n",
       " 'teaches': ['python', 'Data Science', 'AI'],\n",
       " 'time': 900,\n",
       " 'experience': 5,\n",
       " 'age': 24}"
      ]
     },
     "execution_count": 55,
     "metadata": {},
     "output_type": "execute_result"
    }
   ],
   "source": [
    "about"
   ]
  },
  {
   "cell_type": "code",
   "execution_count": 56,
   "id": "4aa828b7",
   "metadata": {},
   "outputs": [
    {
     "data": {
      "text/plain": [
       "900"
      ]
     },
     "execution_count": 56,
     "metadata": {},
     "output_type": "execute_result"
    }
   ],
   "source": [
    "# remove key and value \n",
    "about.pop('time')"
   ]
  },
  {
   "cell_type": "code",
   "execution_count": 57,
   "id": "78ef6dec",
   "metadata": {},
   "outputs": [
    {
     "data": {
      "text/plain": [
       "{'name': 'Kshitiz',\n",
       " 'teaches': ['python', 'Data Science', 'AI'],\n",
       " 'experience': 5,\n",
       " 'age': 24}"
      ]
     },
     "execution_count": 57,
     "metadata": {},
     "output_type": "execute_result"
    }
   ],
   "source": [
    "about\n"
   ]
  },
  {
   "cell_type": "code",
   "execution_count": 61,
   "id": "26f742dc",
   "metadata": {},
   "outputs": [
    {
     "data": {
      "text/plain": [
       "'Data Science'"
      ]
     },
     "execution_count": 61,
     "metadata": {},
     "output_type": "execute_result"
    }
   ],
   "source": [
    "about['teaches'][0]"
   ]
  },
  {
   "cell_type": "code",
   "execution_count": 63,
   "id": "a47b8b7b",
   "metadata": {},
   "outputs": [],
   "source": [
    "about['name'] = 'Kshitiz Regmi'"
   ]
  },
  {
   "cell_type": "code",
   "execution_count": 64,
   "id": "953e1213",
   "metadata": {},
   "outputs": [
    {
     "data": {
      "text/plain": [
       "{'name': 'Kshitiz Regmi',\n",
       " 'teaches': ['Data Science', 'AI'],\n",
       " 'experience': 5,\n",
       " 'age': 24}"
      ]
     },
     "execution_count": 64,
     "metadata": {},
     "output_type": "execute_result"
    }
   ],
   "source": [
    "about"
   ]
  },
  {
   "cell_type": "code",
   "execution_count": 66,
   "id": "46bfbe03",
   "metadata": {},
   "outputs": [],
   "source": [
    "about.update({'name': 'Kshitiz Regmi'})"
   ]
  },
  {
   "cell_type": "code",
   "execution_count": 67,
   "id": "aae95118",
   "metadata": {},
   "outputs": [
    {
     "data": {
      "text/plain": [
       "{'name': 'Kshitiz Regmi',\n",
       " 'teaches': ['Data Science', 'AI'],\n",
       " 'experience': 5,\n",
       " 'age': 24}"
      ]
     },
     "execution_count": 67,
     "metadata": {},
     "output_type": "execute_result"
    }
   ],
   "source": [
    "about"
   ]
  },
  {
   "cell_type": "code",
   "execution_count": null,
   "id": "b1da7ce8",
   "metadata": {},
   "outputs": [],
   "source": []
  },
  {
   "cell_type": "code",
   "execution_count": 70,
   "id": "f5065106",
   "metadata": {},
   "outputs": [
    {
     "data": {
      "text/plain": [
       "{'name': 'Kshitiz Regmi',\n",
       " 'teaches': ['Data Science', 'AI'],\n",
       " 'experience': 5,\n",
       " 'age': 24}"
      ]
     },
     "execution_count": 70,
     "metadata": {},
     "output_type": "execute_result"
    }
   ],
   "source": [
    "about"
   ]
  },
  {
   "cell_type": "code",
   "execution_count": null,
   "id": "c35423f2",
   "metadata": {},
   "outputs": [],
   "source": []
  }
 ],
 "metadata": {
  "kernelspec": {
   "display_name": "Python 3 (ipykernel)",
   "language": "python",
   "name": "python3"
  },
  "language_info": {
   "codemirror_mode": {
    "name": "ipython",
    "version": 3
   },
   "file_extension": ".py",
   "mimetype": "text/x-python",
   "name": "python",
   "nbconvert_exporter": "python",
   "pygments_lexer": "ipython3",
   "version": "3.10.11"
  }
 },
 "nbformat": 4,
 "nbformat_minor": 5
}

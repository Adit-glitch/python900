{
 "cells": [
  {
   "cell_type": "code",
   "execution_count": 1,
   "id": "81dcdd6f",
   "metadata": {},
   "outputs": [],
   "source": [
    "x = None\n"
   ]
  },
  {
   "cell_type": "code",
   "execution_count": 2,
   "id": "d10f6678",
   "metadata": {},
   "outputs": [
    {
     "data": {
      "text/plain": [
       "NoneType"
      ]
     },
     "execution_count": 2,
     "metadata": {},
     "output_type": "execute_result"
    }
   ],
   "source": [
    "type(x)"
   ]
  },
  {
   "cell_type": "code",
   "execution_count": 3,
   "id": "242bac43",
   "metadata": {},
   "outputs": [
    {
     "data": {
      "text/plain": [
       "True"
      ]
     },
     "execution_count": 3,
     "metadata": {},
     "output_type": "execute_result"
    }
   ],
   "source": [
    "x == None # not a preferred way"
   ]
  },
  {
   "cell_type": "markdown",
   "id": "08ec869a",
   "metadata": {},
   "source": [
    "# Identity Operator\n",
    "* identity operators are used to compare the objects, not if they are equal, but if they are actually the same object with the same memory location"
   ]
  },
  {
   "cell_type": "code",
   "execution_count": 4,
   "id": "f30f17f2",
   "metadata": {},
   "outputs": [
    {
     "data": {
      "text/plain": [
       "True"
      ]
     },
     "execution_count": 4,
     "metadata": {},
     "output_type": "execute_result"
    }
   ],
   "source": [
    "x is None # identity operator"
   ]
  },
  {
   "cell_type": "code",
   "execution_count": 5,
   "id": "4eabb208",
   "metadata": {},
   "outputs": [
    {
     "data": {
      "text/plain": [
       "False"
      ]
     },
     "execution_count": 5,
     "metadata": {},
     "output_type": "execute_result"
    }
   ],
   "source": [
    "x is not None"
   ]
  },
  {
   "cell_type": "code",
   "execution_count": 6,
   "id": "9cc34bf2",
   "metadata": {},
   "outputs": [
    {
     "data": {
      "text/plain": [
       "False"
      ]
     },
     "execution_count": 6,
     "metadata": {},
     "output_type": "execute_result"
    }
   ],
   "source": [
    "x is float"
   ]
  },
  {
   "cell_type": "markdown",
   "id": "6fa1ede2",
   "metadata": {},
   "source": []
  }
 ],
 "metadata": {
  "kernelspec": {
   "display_name": "Python 3 (ipykernel)",
   "language": "python",
   "name": "python3"
  },
  "language_info": {
   "codemirror_mode": {
    "name": "ipython",
    "version": 3
   },
   "file_extension": ".py",
   "mimetype": "text/x-python",
   "name": "python",
   "nbconvert_exporter": "python",
   "pygments_lexer": "ipython3",
   "version": "3.10.11"
  }
 },
 "nbformat": 4,
 "nbformat_minor": 5
}

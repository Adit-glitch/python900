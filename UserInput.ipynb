{
 "cells": [
  {
   "cell_type": "code",
   "execution_count": 9,
   "id": "420501a4",
   "metadata": {},
   "outputs": [
    {
     "name": "stdout",
     "output_type": "stream",
     "text": [
      "my msg :Hello World\n",
      "my first msg : Hello World\n"
     ]
    }
   ],
   "source": [
    "msg = str(input('my msg :'))\n",
    "print (f'my first msg : {msg}')"
   ]
  },
  {
   "cell_type": "markdown",
   "id": "003358a1",
   "metadata": {},
   "source": []
  },
  {
   "cell_type": "code",
   "execution_count": 4,
   "id": "3704f5e3",
   "metadata": {},
   "outputs": [
    {
     "name": "stdout",
     "output_type": "stream",
     "text": [
      "x =1\n",
      "y =2\n",
      "3\n"
     ]
    }
   ],
   "source": [
    "x = int(input('x ='))\n",
    "y = int(input('y ='))\n",
    "total = x + y\n",
    "print(total)\n"
   ]
  },
  {
   "cell_type": "code",
   "execution_count": 6,
   "id": "cc750397",
   "metadata": {},
   "outputs": [
    {
     "name": "stdout",
     "output_type": "stream",
     "text": [
      "x =1.2\n",
      "y =2.3\n",
      "x * y = 2.76\n"
     ]
    }
   ],
   "source": [
    "x = float(input('x ='))\n",
    "y = float(input('y ='))\n",
    "multiply = x * y\n",
    "print (f'x * y = {multiply}')"
   ]
  },
  {
   "cell_type": "code",
   "execution_count": 7,
   "id": "3eab3e18",
   "metadata": {},
   "outputs": [
    {
     "name": "stdout",
     "output_type": "stream",
     "text": [
      "x =1\n",
      "y =3\n",
      "x / y = 0.3333333333333333\n"
     ]
    }
   ],
   "source": [
    "x = float(input('x ='))\n",
    "y = float(input('y ='))\n",
    "divi = x / y\n",
    "print (f'x / y = {divi}')"
   ]
  },
  {
   "cell_type": "code",
   "execution_count": null,
   "id": "1381f9c3",
   "metadata": {},
   "outputs": [],
   "source": []
  }
 ],
 "metadata": {
  "kernelspec": {
   "display_name": "Python 3 (ipykernel)",
   "language": "python",
   "name": "python3"
  },
  "language_info": {
   "codemirror_mode": {
    "name": "ipython",
    "version": 3
   },
   "file_extension": ".py",
   "mimetype": "text/x-python",
   "name": "python",
   "nbconvert_exporter": "python",
   "pygments_lexer": "ipython3",
   "version": "3.10.11"
  }
 },
 "nbformat": 4,
 "nbformat_minor": 5
}

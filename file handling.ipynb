{
 "cells": [
  {
   "cell_type": "markdown",
   "id": "c668e2eb",
   "metadata": {},
   "source": [
    "# File Handling\n",
    "open: open(filename, mode)\n",
    "\n",
    "close: file.close()\n",
    "\n",
    "Different mode to open file\n",
    "\n",
    "* create : 'x'\n",
    "* read : 'r'\n",
    "* write : 'w'\n",
    "* append : 'a'"
   ]
  },
  {
   "cell_type": "code",
   "execution_count": 1,
   "id": "8500fd78",
   "metadata": {},
   "outputs": [
    {
     "ename": "FileNotFoundError",
     "evalue": "[Errno 2] No such file or directory: 'broadway.txt'",
     "output_type": "error",
     "traceback": [
      "\u001b[1;31m---------------------------------------------------------------------------\u001b[0m",
      "\u001b[1;31mFileNotFoundError\u001b[0m                         Traceback (most recent call last)",
      "Cell \u001b[1;32mIn[1], line 1\u001b[0m\n\u001b[1;32m----> 1\u001b[0m file \u001b[38;5;241m=\u001b[39m \u001b[38;5;28;43mopen\u001b[39;49m\u001b[43m(\u001b[49m\u001b[38;5;124;43m'\u001b[39;49m\u001b[38;5;124;43mbroadway.txt\u001b[39;49m\u001b[38;5;124;43m'\u001b[39;49m\u001b[43m,\u001b[49m\u001b[43m \u001b[49m\u001b[38;5;124;43m'\u001b[39;49m\u001b[38;5;124;43mr\u001b[39;49m\u001b[38;5;124;43m'\u001b[39;49m\u001b[43m)\u001b[49m\n",
      "File \u001b[1;32m~\\AppData\\Roaming\\Python\\Python310\\site-packages\\IPython\\core\\interactiveshell.py:284\u001b[0m, in \u001b[0;36m_modified_open\u001b[1;34m(file, *args, **kwargs)\u001b[0m\n\u001b[0;32m    277\u001b[0m \u001b[38;5;28;01mif\u001b[39;00m file \u001b[38;5;129;01min\u001b[39;00m {\u001b[38;5;241m0\u001b[39m, \u001b[38;5;241m1\u001b[39m, \u001b[38;5;241m2\u001b[39m}:\n\u001b[0;32m    278\u001b[0m     \u001b[38;5;28;01mraise\u001b[39;00m \u001b[38;5;167;01mValueError\u001b[39;00m(\n\u001b[0;32m    279\u001b[0m         \u001b[38;5;124mf\u001b[39m\u001b[38;5;124m\"\u001b[39m\u001b[38;5;124mIPython won\u001b[39m\u001b[38;5;124m'\u001b[39m\u001b[38;5;124mt let you open fd=\u001b[39m\u001b[38;5;132;01m{\u001b[39;00mfile\u001b[38;5;132;01m}\u001b[39;00m\u001b[38;5;124m by default \u001b[39m\u001b[38;5;124m\"\u001b[39m\n\u001b[0;32m    280\u001b[0m         \u001b[38;5;124m\"\u001b[39m\u001b[38;5;124mas it is likely to crash IPython. If you know what you are doing, \u001b[39m\u001b[38;5;124m\"\u001b[39m\n\u001b[0;32m    281\u001b[0m         \u001b[38;5;124m\"\u001b[39m\u001b[38;5;124myou can use builtins\u001b[39m\u001b[38;5;124m'\u001b[39m\u001b[38;5;124m open.\u001b[39m\u001b[38;5;124m\"\u001b[39m\n\u001b[0;32m    282\u001b[0m     )\n\u001b[1;32m--> 284\u001b[0m \u001b[38;5;28;01mreturn\u001b[39;00m io_open(file, \u001b[38;5;241m*\u001b[39margs, \u001b[38;5;241m*\u001b[39m\u001b[38;5;241m*\u001b[39mkwargs)\n",
      "\u001b[1;31mFileNotFoundError\u001b[0m: [Errno 2] No such file or directory: 'broadway.txt'"
     ]
    }
   ],
   "source": [
    "file = open('broadway.txt', 'r')"
   ]
  },
  {
   "cell_type": "code",
   "execution_count": null,
   "id": "16ea3d04",
   "metadata": {},
   "outputs": [],
   "source": [
    "try:\n",
    "    file = open('broadway.txt', 'r')\n",
    "except Exception as e:\n",
    "    print(e)"
   ]
  },
  {
   "cell_type": "code",
   "execution_count": null,
   "id": "db7ec8df",
   "metadata": {},
   "outputs": [],
   "source": [
    "file = open('student.txt', 'r')"
   ]
  },
  {
   "cell_type": "code",
   "execution_count": null,
   "id": "62d4fc7d",
   "metadata": {},
   "outputs": [],
   "source": [
    "text = file.read()"
   ]
  },
  {
   "cell_type": "code",
   "execution_count": null,
   "id": "b4a3522f",
   "metadata": {},
   "outputs": [],
   "source": [
    "print(text)"
   ]
  },
  {
   "cell_type": "code",
   "execution_count": null,
   "id": "43ad2f6d",
   "metadata": {},
   "outputs": [],
   "source": [
    "file.close()"
   ]
  },
  {
   "cell_type": "code",
   "execution_count": null,
   "id": "bea384c0",
   "metadata": {},
   "outputs": [],
   "source": [
    "with open('student.txt', 'r') as file:\n",
    "    text = file.read()\n",
    "print (text)"
   ]
  },
  {
   "cell_type": "markdown",
   "id": "1e98d153",
   "metadata": {},
   "source": [
    "# write mode\n",
    "* write mode ma file exist gardaina vaney naya create huncha ani tesma wite garcha\n",
    "* if file already exists garca vane write mode lay purano file hataucha ra naya file ma lekcha\\\n",
    "* data loss huncha\n"
   ]
  },
  {
   "cell_type": "code",
   "execution_count": null,
   "id": "b23c4185",
   "metadata": {},
   "outputs": [],
   "source": [
    "with open('new_file.txt', 'w') as file:\n",
    "    text = 'Hello world'\n",
    "    file.write(text)\n",
    "    "
   ]
  },
  {
   "cell_type": "code",
   "execution_count": null,
   "id": "90f48929",
   "metadata": {},
   "outputs": [],
   "source": [
    "with open('new_file.txt', 'r') as file:\n",
    "    text = file.read()\n",
    "print(text)"
   ]
  },
  {
   "cell_type": "code",
   "execution_count": null,
   "id": "d01890f6",
   "metadata": {},
   "outputs": [],
   "source": [
    "# check if file exist or not\n",
    "import os\n",
    "os.path.exists('new_file.txt') # yo directory ma new_file exist garcha ki nai check garayko"
   ]
  },
  {
   "cell_type": "code",
   "execution_count": null,
   "id": "4b3c5eac",
   "metadata": {},
   "outputs": [],
   "source": [
    "os.path.exists('hello.txt')"
   ]
  },
  {
   "cell_type": "code",
   "execution_count": null,
   "id": "82fb23e1",
   "metadata": {},
   "outputs": [],
   "source": [
    "with open('new_file.txt', 'w') as file:\n",
    "    file.write('hello python')"
   ]
  },
  {
   "cell_type": "code",
   "execution_count": null,
   "id": "e8c18a6a",
   "metadata": {},
   "outputs": [],
   "source": [
    "with open('new_file.txt', 'r') as file:\n",
    "    text = file.read()\n",
    "print(text)"
   ]
  },
  {
   "cell_type": "markdown",
   "id": "8e9e333a",
   "metadata": {},
   "source": [
    "# append mode\n",
    "* file exist gardaina vaney naya vancha\n",
    "* if file exist garcha vaney write garayko data purano file ma append huncha."
   ]
  },
  {
   "cell_type": "code",
   "execution_count": 2,
   "id": "3683bfb9",
   "metadata": {},
   "outputs": [],
   "source": [
    "with open('comrate.txt', 'a') as file:\n",
    "    text = 'Hello comrate'\n",
    "    file.write(text)"
   ]
  },
  {
   "cell_type": "code",
   "execution_count": 3,
   "id": "645c354b",
   "metadata": {},
   "outputs": [
    {
     "name": "stdout",
     "output_type": "stream",
     "text": [
      "Hello comrateHello again/n Hello again\n",
      " Hello againHello comrate\n"
     ]
    }
   ],
   "source": [
    "with open('comrate.txt', 'r') as file:\n",
    "    text = file.read()\n",
    "print (text)"
   ]
  },
  {
   "cell_type": "code",
   "execution_count": 4,
   "id": "418877c2",
   "metadata": {},
   "outputs": [],
   "source": [
    "with open('comrate.txt', 'a') as file:\n",
    "    file.write('\\n Hello again')"
   ]
  },
  {
   "cell_type": "code",
   "execution_count": 5,
   "id": "34c5f2fb",
   "metadata": {},
   "outputs": [],
   "source": [
    "with open('comrate.txt') as file:\n",
    "    text = file.read()"
   ]
  },
  {
   "cell_type": "code",
   "execution_count": 6,
   "id": "95efff13",
   "metadata": {},
   "outputs": [
    {
     "name": "stdout",
     "output_type": "stream",
     "text": [
      "Hello comrateHello again/n Hello again\n",
      " Hello againHello comrate\n",
      " Hello again\n"
     ]
    }
   ],
   "source": [
    "print(text)"
   ]
  },
  {
   "cell_type": "code",
   "execution_count": null,
   "id": "3c73471c",
   "metadata": {},
   "outputs": [],
   "source": []
  },
  {
   "cell_type": "code",
   "execution_count": null,
   "id": "5531615a",
   "metadata": {},
   "outputs": [],
   "source": []
  }
 ],
 "metadata": {
  "kernelspec": {
   "display_name": "Python 3 (ipykernel)",
   "language": "python",
   "name": "python3"
  },
  "language_info": {
   "codemirror_mode": {
    "name": "ipython",
    "version": 3
   },
   "file_extension": ".py",
   "mimetype": "text/x-python",
   "name": "python",
   "nbconvert_exporter": "python",
   "pygments_lexer": "ipython3",
   "version": "3.10.11"
  }
 },
 "nbformat": 4,
 "nbformat_minor": 5
}

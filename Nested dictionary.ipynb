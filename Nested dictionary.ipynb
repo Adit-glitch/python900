{
 "cells": [
  {
   "cell_type": "code",
   "execution_count": 5,
   "id": "41d93809",
   "metadata": {},
   "outputs": [],
   "source": [
    "about = {\n",
    "    'ufc' : {'name' : 'Joe', 'age' : 30},\n",
    "    'meta' : {'name' : 'Mark', 'age' : 33, 'podcast' : True},\n",
    "    'X' : {'name' : 'Elon', 'age' : 44}\n",
    "}"
   ]
  },
  {
   "cell_type": "code",
   "execution_count": 6,
   "id": "4e2f998f",
   "metadata": {},
   "outputs": [
    {
     "data": {
      "text/plain": [
       "{'name': 'Mark', 'age': 33, 'podcast': True}"
      ]
     },
     "execution_count": 6,
     "metadata": {},
     "output_type": "execute_result"
    }
   ],
   "source": [
    "about['meta']"
   ]
  },
  {
   "cell_type": "code",
   "execution_count": 7,
   "id": "301ea4d3",
   "metadata": {},
   "outputs": [
    {
     "data": {
      "text/plain": [
       "'Mark'"
      ]
     },
     "execution_count": 7,
     "metadata": {},
     "output_type": "execute_result"
    }
   ],
   "source": [
    "about['meta']['name']"
   ]
  },
  {
   "cell_type": "code",
   "execution_count": 9,
   "id": "87a8cb60",
   "metadata": {},
   "outputs": [
    {
     "data": {
      "text/plain": [
       "True"
      ]
     },
     "execution_count": 9,
     "metadata": {},
     "output_type": "execute_result"
    }
   ],
   "source": [
    "about['meta']['podcast']"
   ]
  },
  {
   "cell_type": "code",
   "execution_count": 10,
   "id": "df2dc493",
   "metadata": {},
   "outputs": [
    {
     "ename": "KeyError",
     "evalue": "'podcast'",
     "output_type": "error",
     "traceback": [
      "\u001b[1;31m---------------------------------------------------------------------------\u001b[0m",
      "\u001b[1;31mKeyError\u001b[0m                                  Traceback (most recent call last)",
      "Cell \u001b[1;32mIn[10], line 1\u001b[0m\n\u001b[1;32m----> 1\u001b[0m \u001b[43mabout\u001b[49m\u001b[43m[\u001b[49m\u001b[38;5;124;43m'\u001b[39;49m\u001b[38;5;124;43mufc\u001b[39;49m\u001b[38;5;124;43m'\u001b[39;49m\u001b[43m]\u001b[49m\u001b[43m[\u001b[49m\u001b[38;5;124;43m'\u001b[39;49m\u001b[38;5;124;43mpodcast\u001b[39;49m\u001b[38;5;124;43m'\u001b[39;49m\u001b[43m]\u001b[49m\n",
      "\u001b[1;31mKeyError\u001b[0m: 'podcast'"
     ]
    }
   ],
   "source": [
    "about['ufc']['podcast']"
   ]
  },
  {
   "cell_type": "code",
   "execution_count": null,
   "id": "444735e8",
   "metadata": {},
   "outputs": [],
   "source": []
  }
 ],
 "metadata": {
  "kernelspec": {
   "display_name": "Python 3 (ipykernel)",
   "language": "python",
   "name": "python3"
  },
  "language_info": {
   "codemirror_mode": {
    "name": "ipython",
    "version": 3
   },
   "file_extension": ".py",
   "mimetype": "text/x-python",
   "name": "python",
   "nbconvert_exporter": "python",
   "pygments_lexer": "ipython3",
   "version": "3.10.11"
  }
 },
 "nbformat": 4,
 "nbformat_minor": 5
}

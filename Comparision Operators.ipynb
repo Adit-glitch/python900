{
 "cells": [
  {
   "cell_type": "code",
   "execution_count": 1,
   "id": "e8f8d83f",
   "metadata": {},
   "outputs": [
    {
     "data": {
      "text/plain": [
       "True"
      ]
     },
     "execution_count": 1,
     "metadata": {},
     "output_type": "execute_result"
    }
   ],
   "source": [
    "1 == 1 # True is boolean in Python"
   ]
  },
  {
   "cell_type": "code",
   "execution_count": 2,
   "id": "74b82800",
   "metadata": {},
   "outputs": [
    {
     "data": {
      "text/plain": [
       "True"
      ]
     },
     "execution_count": 2,
     "metadata": {},
     "output_type": "execute_result"
    }
   ],
   "source": [
    "2 < 4 # less than"
   ]
  },
  {
   "cell_type": "code",
   "execution_count": 3,
   "id": "7150f9bf",
   "metadata": {},
   "outputs": [
    {
     "data": {
      "text/plain": [
       "False"
      ]
     },
     "execution_count": 3,
     "metadata": {},
     "output_type": "execute_result"
    }
   ],
   "source": [
    "9 < 3 # 9 less than 4 -- False"
   ]
  },
  {
   "cell_type": "code",
   "execution_count": 4,
   "id": "2814bcd7",
   "metadata": {},
   "outputs": [
    {
     "data": {
      "text/plain": [
       "True"
      ]
     },
     "execution_count": 4,
     "metadata": {},
     "output_type": "execute_result"
    }
   ],
   "source": [
    "3 > 2 # 3 is greater than 2 -- True"
   ]
  },
  {
   "cell_type": "code",
   "execution_count": 5,
   "id": "9efa9520",
   "metadata": {},
   "outputs": [
    {
     "data": {
      "text/plain": [
       "True"
      ]
     },
     "execution_count": 5,
     "metadata": {},
     "output_type": "execute_result"
    }
   ],
   "source": [
    "2 <= 2 # 2 is less than or equal to 2?\n"
   ]
  },
  {
   "cell_type": "code",
   "execution_count": 6,
   "id": "58f41b20",
   "metadata": {},
   "outputs": [
    {
     "data": {
      "text/plain": [
       "True"
      ]
     },
     "execution_count": 6,
     "metadata": {},
     "output_type": "execute_result"
    }
   ],
   "source": [
    "8 >= 7 # 8 is greater than or equal to 7\n"
   ]
  },
  {
   "cell_type": "code",
   "execution_count": 8,
   "id": "a42a093b",
   "metadata": {},
   "outputs": [
    {
     "data": {
      "text/plain": [
       "True"
      ]
     },
     "execution_count": 8,
     "metadata": {},
     "output_type": "execute_result"
    }
   ],
   "source": [
    "3 != 4 # 3 is not equals to 4"
   ]
  },
  {
   "cell_type": "code",
   "execution_count": null,
   "id": "39f99d16",
   "metadata": {},
   "outputs": [],
   "source": [
    "#WAP to check wheather the user given inpurt integer is positive or negative number. If it is positive print positive else print negative\n",
    "\n",
    "#wirte a program to check wheather a person is eligible for voting or not() accept age from user\n",
    "\n",
    "#write a program to check whether the last digit of a number entererd by user is divisible by 3 or not\n",
    "\n",
    "\n"
   ]
  },
  {
   "cell_type": "code",
   "execution_count": null,
   "id": "637dfbda",
   "metadata": {},
   "outputs": [],
   "source": []
  }
 ],
 "metadata": {
  "kernelspec": {
   "display_name": "Python 3 (ipykernel)",
   "language": "python",
   "name": "python3"
  },
  "language_info": {
   "codemirror_mode": {
    "name": "ipython",
    "version": 3
   },
   "file_extension": ".py",
   "mimetype": "text/x-python",
   "name": "python",
   "nbconvert_exporter": "python",
   "pygments_lexer": "ipython3",
   "version": "3.10.11"
  }
 },
 "nbformat": 4,
 "nbformat_minor": 5
}

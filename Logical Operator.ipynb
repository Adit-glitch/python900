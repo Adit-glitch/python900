{
 "cells": [
  {
   "cell_type": "markdown",
   "id": "45691ab3",
   "metadata": {},
   "source": [
    "# Logical Operator\n",
    "* and\n",
    "* or\n",
    "* not\n",
    "# logical operator boolean ma lagaune ho.\n"
   ]
  },
  {
   "cell_type": "markdown",
   "id": "69d999ae",
   "metadata": {},
   "source": [
    "# and\n"
   ]
  },
  {
   "cell_type": "code",
   "execution_count": 5,
   "id": "6843d7ff",
   "metadata": {},
   "outputs": [
    {
     "data": {
      "text/plain": [
       "False"
      ]
     },
     "execution_count": 5,
     "metadata": {},
     "output_type": "execute_result"
    }
   ],
   "source": [
    "True and True\n"
   ]
  },
  {
   "cell_type": "code",
   "execution_count": 2,
   "id": "0709ea7e",
   "metadata": {},
   "outputs": [
    {
     "data": {
      "text/plain": [
       "False"
      ]
     },
     "execution_count": 2,
     "metadata": {},
     "output_type": "execute_result"
    }
   ],
   "source": [
    "True and False"
   ]
  },
  {
   "cell_type": "code",
   "execution_count": 3,
   "id": "fb141e39",
   "metadata": {},
   "outputs": [
    {
     "data": {
      "text/plain": [
       "False"
      ]
     },
     "execution_count": 3,
     "metadata": {},
     "output_type": "execute_result"
    }
   ],
   "source": [
    "False and True"
   ]
  },
  {
   "cell_type": "code",
   "execution_count": 4,
   "id": "56779b15",
   "metadata": {},
   "outputs": [
    {
     "data": {
      "text/plain": [
       "False"
      ]
     },
     "execution_count": 4,
     "metadata": {},
     "output_type": "execute_result"
    }
   ],
   "source": [
    "False and False"
   ]
  },
  {
   "cell_type": "code",
   "execution_count": 6,
   "id": "f5017558",
   "metadata": {},
   "outputs": [
    {
     "data": {
      "text/plain": [
       "True"
      ]
     },
     "execution_count": 6,
     "metadata": {},
     "output_type": "execute_result"
    }
   ],
   "source": [
    "# example\n",
    "num = 90\n",
    "num % 3 == 0 and num % 10 == 0"
   ]
  },
  {
   "cell_type": "markdown",
   "id": "0c9c0860",
   "metadata": {},
   "source": [
    "# OR\n"
   ]
  },
  {
   "cell_type": "code",
   "execution_count": 8,
   "id": "4e6edbb7",
   "metadata": {},
   "outputs": [
    {
     "data": {
      "text/plain": [
       "True"
      ]
     },
     "execution_count": 8,
     "metadata": {},
     "output_type": "execute_result"
    }
   ],
   "source": [
    "True or True"
   ]
  },
  {
   "cell_type": "code",
   "execution_count": 9,
   "id": "58412e75",
   "metadata": {},
   "outputs": [
    {
     "data": {
      "text/plain": [
       "True"
      ]
     },
     "execution_count": 9,
     "metadata": {},
     "output_type": "execute_result"
    }
   ],
   "source": [
    "True or False"
   ]
  },
  {
   "cell_type": "code",
   "execution_count": 10,
   "id": "c1652b72",
   "metadata": {},
   "outputs": [
    {
     "data": {
      "text/plain": [
       "True"
      ]
     },
     "execution_count": 10,
     "metadata": {},
     "output_type": "execute_result"
    }
   ],
   "source": [
    "False or True"
   ]
  },
  {
   "cell_type": "code",
   "execution_count": 11,
   "id": "28a17418",
   "metadata": {},
   "outputs": [
    {
     "data": {
      "text/plain": [
       "False"
      ]
     },
     "execution_count": 11,
     "metadata": {},
     "output_type": "execute_result"
    }
   ],
   "source": [
    "False or False"
   ]
  },
  {
   "cell_type": "markdown",
   "id": "72ed3f58",
   "metadata": {},
   "source": [
    "# Not\n"
   ]
  },
  {
   "cell_type": "code",
   "execution_count": 13,
   "id": "8f2ea382",
   "metadata": {},
   "outputs": [
    {
     "data": {
      "text/plain": [
       "False"
      ]
     },
     "execution_count": 13,
     "metadata": {},
     "output_type": "execute_result"
    }
   ],
   "source": [
    "not True"
   ]
  },
  {
   "cell_type": "code",
   "execution_count": 14,
   "id": "45a4b1b0",
   "metadata": {},
   "outputs": [
    {
     "data": {
      "text/plain": [
       "True"
      ]
     },
     "execution_count": 14,
     "metadata": {},
     "output_type": "execute_result"
    }
   ],
   "source": [
    "not False"
   ]
  },
  {
   "cell_type": "markdown",
   "id": "a9b1e7ee",
   "metadata": {},
   "source": [
    "# <img src=\"https://cdn.calculatorsoup.com/images/thumbnails/calculators_health_bmi-calculator.png\">"
   ]
  },
  {
   "cell_type": "code",
   "execution_count": 18,
   "id": "d87d0bff",
   "metadata": {},
   "outputs": [
    {
     "name": "stdout",
     "output_type": "stream",
     "text": [
      "What is your weight in kg: 60\n",
      "What is your height in cm: 157\n",
      "You are Normal\n"
     ]
    }
   ],
   "source": [
    "weight = float(input('What is your weight in kg: '))\n",
    "height = float(input('What is your height in cm: '))\n",
    "\n",
    "height = height / 100\n",
    "bmi = weight / height ** 2\n",
    "\n",
    "if bmi < 18.5:\n",
    "    print('You are underweight.')\n",
    "elif bmi >= 18.5 and bmi <= 24.9:\n",
    "    print('You are Normal')\n",
    "elif bmi >= 25 and bmi <= 39.9:\n",
    "    print('You are Overweight')\n",
    "elif bmi >= 40:\n",
    "    print('You are Obese')"
   ]
  },
  {
   "cell_type": "code",
   "execution_count": null,
   "id": "7172fcc2",
   "metadata": {},
   "outputs": [],
   "source": []
  }
 ],
 "metadata": {
  "kernelspec": {
   "display_name": "Python 3 (ipykernel)",
   "language": "python",
   "name": "python3"
  },
  "language_info": {
   "codemirror_mode": {
    "name": "ipython",
    "version": 3
   },
   "file_extension": ".py",
   "mimetype": "text/x-python",
   "name": "python",
   "nbconvert_exporter": "python",
   "pygments_lexer": "ipython3",
   "version": "3.10.11"
  }
 },
 "nbformat": 4,
 "nbformat_minor": 5
}

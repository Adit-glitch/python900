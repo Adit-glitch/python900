{
 "cells": [
  {
   "cell_type": "code",
   "execution_count": 2,
   "id": "4d80929d",
   "metadata": {},
   "outputs": [
    {
     "name": "stdout",
     "output_type": "stream",
     "text": [
      "first number:3\n"
     ]
    }
   ],
   "source": [
    "msg = int(input('first number:'))"
   ]
  },
  {
   "cell_type": "markdown",
   "id": "d91f04c0",
   "metadata": {},
   "source": [
    "x = int(input('x ='))\n",
    "y = int(int('y ='))\n",
    "total = x + y\n",
    "print(total)"
   ]
  },
  {
   "cell_type": "code",
   "execution_count": null,
   "id": "df5cf1b0",
   "metadata": {},
   "outputs": [],
   "source": []
  }
 ],
 "metadata": {
  "kernelspec": {
   "display_name": "Python 3 (ipykernel)",
   "language": "python",
   "name": "python3"
  },
  "language_info": {
   "codemirror_mode": {
    "name": "ipython",
    "version": 3
   },
   "file_extension": ".py",
   "mimetype": "text/x-python",
   "name": "python",
   "nbconvert_exporter": "python",
   "pygments_lexer": "ipython3",
   "version": "3.10.11"
  }
 },
 "nbformat": 4,
 "nbformat_minor": 5
}

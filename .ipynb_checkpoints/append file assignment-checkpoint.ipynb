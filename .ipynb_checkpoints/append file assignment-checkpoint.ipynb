{
 "cells": [
  {
   "cell_type": "code",
   "execution_count": 1,
   "id": "a7abf32b",
   "metadata": {},
   "outputs": [],
   "source": [
    "# \n",
    "name_list = ['Ram', 'Shyam', 'Hari', 'Krishna', 'Sita']\n",
    "\n",
    "with open('studentList.txt', 'a') as file: # create and open studentList.\n",
    "    for name in name_list: \n",
    "        file.write(f'{name} \\n')"
   ]
  },
  {
   "cell_type": "code",
   "execution_count": 2,
   "id": "e61f3034",
   "metadata": {},
   "outputs": [
    {
     "name": "stdout",
     "output_type": "stream",
     "text": [
      "Ram \n",
      "Shyam \n",
      "Hari \n",
      "Krishna \n",
      "Sita \n",
      "\n"
     ]
    }
   ],
   "source": [
    "with open('studentList.txt', 'r') as file: # read the studentList.txt\n",
    "    text = file.read()\n",
    "    \n",
    "print(text)"
   ]
  },
  {
   "cell_type": "code",
   "execution_count": null,
   "id": "4d5c9a62",
   "metadata": {},
   "outputs": [],
   "source": []
  }
 ],
 "metadata": {
  "kernelspec": {
   "display_name": "Python 3 (ipykernel)",
   "language": "python",
   "name": "python3"
  },
  "language_info": {
   "codemirror_mode": {
    "name": "ipython",
    "version": 3
   },
   "file_extension": ".py",
   "mimetype": "text/x-python",
   "name": "python",
   "nbconvert_exporter": "python",
   "pygments_lexer": "ipython3",
   "version": "3.10.11"
  }
 },
 "nbformat": 4,
 "nbformat_minor": 5
}

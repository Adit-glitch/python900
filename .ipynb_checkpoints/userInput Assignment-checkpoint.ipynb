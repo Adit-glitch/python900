{
 "cells": [
  {
   "cell_type": "markdown",
   "id": "d0043235",
   "metadata": {},
   "source": [
    "# WAP to check wheather the user given input integer is positive or negative number. If it is positive print positive else print negative\n",
    "\n",
    "# write a program to check wheather a person is eligible for voting or not() accept age from user\n",
    "\n",
    "# write a program to check whether the last digit of a number entererd by user is divisible by 3 or not"
   ]
  },
  {
   "cell_type": "code",
   "execution_count": 13,
   "id": "32c746d3",
   "metadata": {},
   "outputs": [
    {
     "name": "stdout",
     "output_type": "stream",
     "text": [
      "Enter a number : 2\n",
      "The number 2 is positive.\n"
     ]
    }
   ],
   "source": [
    "# CHeck whether the user input is positive or negative.\n",
    "number = int(input('Enter a number : ')) # Get the input from user.\n",
    "if number < 0: # Check if the number is greate than 0.\n",
    "    print (f'The number {number} is negative.')\n",
    "else:\n",
    "    print (f'The number {number} is positive.')\n"
   ]
  },
  {
   "cell_type": "code",
   "execution_count": 6,
   "id": "a07c6429",
   "metadata": {},
   "outputs": [
    {
     "name": "stdout",
     "output_type": "stream",
     "text": [
      "Enter Age : 18\n",
      "This person is eligible for voting.\n"
     ]
    }
   ],
   "source": [
    "# Eligible for voting or not.\n",
    "age = int(input('Enter Age : ')) # Get the input from user.\n",
    "if age >= 18: # Check if age is greater then or equal to 18.\n",
    "    print(f'This person is eligible for voting.')\n",
    "else:\n",
    "    print(f'This person is not eligible for voting.')"
   ]
  },
  {
   "cell_type": "code",
   "execution_count": 12,
   "id": "101def38",
   "metadata": {},
   "outputs": [
    {
     "name": "stdout",
     "output_type": "stream",
     "text": [
      "Enter a number : 6\n",
      "The last digit 6 is divisible by 3.\n"
     ]
    }
   ],
   "source": [
    "# Last digit of a number is divisible by 3.\n",
    "number = int(input('Enter a number : ')) # Get the inpur from user.\n",
    "last_digit = number % 10 # Get the last digit of the user input.\n",
    "if last_digit % 3 == 0: # Check if last digit is divisible by 3.\n",
    "    print(f'The last digit {last_digit} is divisible by 3.')\n",
    "else:\n",
    "    print(f'The last digit {last_digit} is not divisible by 3.')"
   ]
  },
  {
   "cell_type": "code",
   "execution_count": null,
   "id": "293f4c76",
   "metadata": {},
   "outputs": [],
   "source": []
  }
 ],
 "metadata": {
  "kernelspec": {
   "display_name": "Python 3 (ipykernel)",
   "language": "python",
   "name": "python3"
  },
  "language_info": {
   "codemirror_mode": {
    "name": "ipython",
    "version": 3
   },
   "file_extension": ".py",
   "mimetype": "text/x-python",
   "name": "python",
   "nbconvert_exporter": "python",
   "pygments_lexer": "ipython3",
   "version": "3.10.11"
  }
 },
 "nbformat": 4,
 "nbformat_minor": 5
}

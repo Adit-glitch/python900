{
 "cells": [
  {
   "cell_type": "markdown",
   "id": "8f9af8a8",
   "metadata": {},
   "source": [
    "# sets\n",
    "* donot allow duplicate\n",
    "* unindexed, unordered\n",
    "# Set is a mutable data type you can add or remove items from the set"
   ]
  },
  {
   "cell_type": "code",
   "execution_count": 1,
   "id": "08ab01ac",
   "metadata": {},
   "outputs": [],
   "source": [
    "khana_set = {'dal', 'gundruk', 'bhat', 'chatni', 'masu', 'ghue', 'pappad', 'salad'}"
   ]
  },
  {
   "cell_type": "code",
   "execution_count": 2,
   "id": "67f66a13",
   "metadata": {},
   "outputs": [
    {
     "data": {
      "text/plain": [
       "{'bhat', 'chatni', 'dal', 'ghue', 'gundruk', 'masu', 'pappad', 'salad'}"
      ]
     },
     "execution_count": 2,
     "metadata": {},
     "output_type": "execute_result"
    }
   ],
   "source": [
    "khana_set\n"
   ]
  },
  {
   "cell_type": "code",
   "execution_count": 3,
   "id": "eefdcac1",
   "metadata": {},
   "outputs": [
    {
     "ename": "TypeError",
     "evalue": "'set' object is not subscriptable",
     "output_type": "error",
     "traceback": [
      "\u001b[1;31m---------------------------------------------------------------------------\u001b[0m",
      "\u001b[1;31mTypeError\u001b[0m                                 Traceback (most recent call last)",
      "Cell \u001b[1;32mIn[3], line 1\u001b[0m\n\u001b[1;32m----> 1\u001b[0m \u001b[43mkhana_set\u001b[49m\u001b[43m[\u001b[49m\u001b[38;5;241;43m0\u001b[39;49m\u001b[43m]\u001b[49m\n",
      "\u001b[1;31mTypeError\u001b[0m: 'set' object is not subscriptable"
     ]
    }
   ],
   "source": [
    "khana_set[0]# unindexed"
   ]
  },
  {
   "cell_type": "code",
   "execution_count": 4,
   "id": "76cf210d",
   "metadata": {
    "scrolled": true
   },
   "outputs": [
    {
     "name": "stdout",
     "output_type": "stream",
     "text": [
      "khana set ma : pappad parxa\n",
      "khana set ma : bhat parxa\n",
      "khana set ma : ghue parxa\n",
      "khana set ma : masu parxa\n",
      "khana set ma : dal parxa\n",
      "khana set ma : chatni parxa\n",
      "khana set ma : salad parxa\n",
      "khana set ma : gundruk parxa\n"
     ]
    }
   ],
   "source": [
    "for item in khana_set:\n",
    "    print(f'khana set ma : {item} parxa')"
   ]
  },
  {
   "cell_type": "markdown",
   "id": "d98834a6",
   "metadata": {},
   "source": [
    "# Add\n"
   ]
  },
  {
   "cell_type": "code",
   "execution_count": 5,
   "id": "de8e0858",
   "metadata": {},
   "outputs": [],
   "source": [
    "khana_set.add('Kauli')"
   ]
  },
  {
   "cell_type": "code",
   "execution_count": 6,
   "id": "6a7f1319",
   "metadata": {},
   "outputs": [
    {
     "data": {
      "text/plain": [
       "{'Kauli',\n",
       " 'bhat',\n",
       " 'chatni',\n",
       " 'dal',\n",
       " 'ghue',\n",
       " 'gundruk',\n",
       " 'masu',\n",
       " 'pappad',\n",
       " 'salad'}"
      ]
     },
     "execution_count": 6,
     "metadata": {},
     "output_type": "execute_result"
    }
   ],
   "source": [
    "khana_set"
   ]
  },
  {
   "cell_type": "markdown",
   "id": "5a60c3de",
   "metadata": {},
   "source": [
    "# Remove"
   ]
  },
  {
   "cell_type": "code",
   "execution_count": 7,
   "id": "66373384",
   "metadata": {},
   "outputs": [],
   "source": [
    "khana_set.remove('masu')"
   ]
  },
  {
   "cell_type": "code",
   "execution_count": 8,
   "id": "93e20d4a",
   "metadata": {},
   "outputs": [
    {
     "data": {
      "text/plain": [
       "{'Kauli', 'bhat', 'chatni', 'dal', 'ghue', 'gundruk', 'pappad', 'salad'}"
      ]
     },
     "execution_count": 8,
     "metadata": {},
     "output_type": "execute_result"
    }
   ],
   "source": [
    "khana_set"
   ]
  },
  {
   "cell_type": "code",
   "execution_count": 12,
   "id": "617ad9a2",
   "metadata": {},
   "outputs": [
    {
     "ename": "KeyError",
     "evalue": "'sag'",
     "output_type": "error",
     "traceback": [
      "\u001b[1;31m---------------------------------------------------------------------------\u001b[0m",
      "\u001b[1;31mKeyError\u001b[0m                                  Traceback (most recent call last)",
      "Cell \u001b[1;32mIn[12], line 2\u001b[0m\n\u001b[0;32m      1\u001b[0m \u001b[38;5;66;03m# if there is no item it will return a error\u001b[39;00m\n\u001b[1;32m----> 2\u001b[0m \u001b[43mkhana_set\u001b[49m\u001b[38;5;241;43m.\u001b[39;49m\u001b[43mremove\u001b[49m\u001b[43m(\u001b[49m\u001b[38;5;124;43m'\u001b[39;49m\u001b[38;5;124;43msag\u001b[39;49m\u001b[38;5;124;43m'\u001b[39;49m\u001b[43m)\u001b[49m\n",
      "\u001b[1;31mKeyError\u001b[0m: 'sag'"
     ]
    }
   ],
   "source": [
    "# if there is no item it will return a error\n",
    "khana_set.remove('sag')"
   ]
  },
  {
   "cell_type": "markdown",
   "id": "094fc8b1",
   "metadata": {},
   "source": [
    "# Discard\n",
    "* discard will remove item if exist and do nothing if there is no item"
   ]
  },
  {
   "cell_type": "code",
   "execution_count": 13,
   "id": "aad0d8a4",
   "metadata": {},
   "outputs": [],
   "source": [
    "khana_set.discard('sag')"
   ]
  },
  {
   "cell_type": "markdown",
   "id": "b604e055",
   "metadata": {},
   "source": [
    "# set methods\n",
    "* intersection\n",
    "* union\n",
    "* difference\n",
    "* -\n"
   ]
  },
  {
   "cell_type": "code",
   "execution_count": 14,
   "id": "cabe96a4",
   "metadata": {},
   "outputs": [],
   "source": [
    "A = {'apple', 'banana', 'cherry'}\n",
    "B = {'google', 'microsoft', 'apple'}"
   ]
  },
  {
   "cell_type": "code",
   "execution_count": 15,
   "id": "fba775e9",
   "metadata": {},
   "outputs": [
    {
     "data": {
      "text/plain": [
       "{'apple'}"
      ]
     },
     "execution_count": 15,
     "metadata": {},
     "output_type": "execute_result"
    }
   ],
   "source": [
    "A.intersection(B)"
   ]
  },
  {
   "cell_type": "code",
   "execution_count": 16,
   "id": "a491edc9",
   "metadata": {},
   "outputs": [
    {
     "data": {
      "text/plain": [
       "{'apple'}"
      ]
     },
     "execution_count": 16,
     "metadata": {},
     "output_type": "execute_result"
    }
   ],
   "source": [
    "B.intersection(A)"
   ]
  },
  {
   "cell_type": "code",
   "execution_count": 17,
   "id": "f737ff9d",
   "metadata": {},
   "outputs": [
    {
     "data": {
      "text/plain": [
       "{'apple', 'banana', 'cherry', 'google', 'microsoft'}"
      ]
     },
     "execution_count": 17,
     "metadata": {},
     "output_type": "execute_result"
    }
   ],
   "source": [
    "A.union(B)"
   ]
  },
  {
   "cell_type": "code",
   "execution_count": 18,
   "id": "6179c8f2",
   "metadata": {},
   "outputs": [
    {
     "data": {
      "text/plain": [
       "{'apple', 'banana', 'cherry', 'google', 'microsoft'}"
      ]
     },
     "execution_count": 18,
     "metadata": {},
     "output_type": "execute_result"
    }
   ],
   "source": [
    "B.union(A)"
   ]
  },
  {
   "cell_type": "code",
   "execution_count": 19,
   "id": "2558b9c7",
   "metadata": {},
   "outputs": [
    {
     "data": {
      "text/plain": [
       "{'banana', 'cherry'}"
      ]
     },
     "execution_count": 19,
     "metadata": {},
     "output_type": "execute_result"
    }
   ],
   "source": [
    "A.difference(B)"
   ]
  },
  {
   "cell_type": "code",
   "execution_count": 20,
   "id": "df467d2c",
   "metadata": {},
   "outputs": [
    {
     "data": {
      "text/plain": [
       "{'banana', 'cherry'}"
      ]
     },
     "execution_count": 20,
     "metadata": {},
     "output_type": "execute_result"
    }
   ],
   "source": [
    "A - B"
   ]
  },
  {
   "cell_type": "code",
   "execution_count": 21,
   "id": "e6ff2688",
   "metadata": {},
   "outputs": [
    {
     "data": {
      "text/plain": [
       "{'google', 'microsoft'}"
      ]
     },
     "execution_count": 21,
     "metadata": {},
     "output_type": "execute_result"
    }
   ],
   "source": [
    "B - A"
   ]
  },
  {
   "cell_type": "code",
   "execution_count": null,
   "id": "069495dc",
   "metadata": {},
   "outputs": [],
   "source": []
  }
 ],
 "metadata": {
  "kernelspec": {
   "display_name": "Python 3 (ipykernel)",
   "language": "python",
   "name": "python3"
  },
  "language_info": {
   "codemirror_mode": {
    "name": "ipython",
    "version": 3
   },
   "file_extension": ".py",
   "mimetype": "text/x-python",
   "name": "python",
   "nbconvert_exporter": "python",
   "pygments_lexer": "ipython3",
   "version": "3.10.11"
  }
 },
 "nbformat": 4,
 "nbformat_minor": 5
}

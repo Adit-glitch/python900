{
 "cells": [
  {
   "cell_type": "markdown",
   "id": "608b6076",
   "metadata": {},
   "source": [
    "# class attribute"
   ]
  },
  {
   "cell_type": "code",
   "execution_count": 1,
   "id": "790d7972",
   "metadata": {},
   "outputs": [],
   "source": [
    "class Mammal:\n",
    "    has_hair = True # class attribute"
   ]
  },
  {
   "cell_type": "code",
   "execution_count": 2,
   "id": "0a5c59bd",
   "metadata": {},
   "outputs": [
    {
     "name": "stdout",
     "output_type": "stream",
     "text": [
      "True\n"
     ]
    }
   ],
   "source": [
    "human = Mammal() # human is object of Mammal class\n",
    "print(human.has_hair) # class attribute is same for all objects"
   ]
  },
  {
   "cell_type": "code",
   "execution_count": 3,
   "id": "5b18cbde",
   "metadata": {},
   "outputs": [
    {
     "name": "stdout",
     "output_type": "stream",
     "text": [
      "True\n"
     ]
    }
   ],
   "source": [
    "cow = Mammal()\n",
    "print(cow.has_hair) "
   ]
  },
  {
   "cell_type": "markdown",
   "id": "78c56eaf",
   "metadata": {},
   "source": [
    "# instance attributes"
   ]
  },
  {
   "cell_type": "code",
   "execution_count": 4,
   "id": "2b4bbe8d",
   "metadata": {},
   "outputs": [
    {
     "ename": "TypeError",
     "evalue": "Mammal.__init__() missing 1 required positional argument: 'no_of_legs'",
     "output_type": "error",
     "traceback": [
      "\u001b[1;31m---------------------------------------------------------------------------\u001b[0m",
      "\u001b[1;31mTypeError\u001b[0m                                 Traceback (most recent call last)",
      "Cell \u001b[1;32mIn[4], line 7\u001b[0m\n\u001b[0;32m      4\u001b[0m     \u001b[38;5;28;01mdef\u001b[39;00m \u001b[38;5;21m__init__\u001b[39m(\u001b[38;5;28mself\u001b[39m, no_of_legs):\n\u001b[0;32m      5\u001b[0m         \u001b[38;5;28mself\u001b[39m\u001b[38;5;241m.\u001b[39mno_of_legs \u001b[38;5;241m=\u001b[39m no_of_legs\n\u001b[1;32m----> 7\u001b[0m human \u001b[38;5;241m=\u001b[39m \u001b[43mMammal\u001b[49m\u001b[43m(\u001b[49m\u001b[43m)\u001b[49m\n",
      "\u001b[1;31mTypeError\u001b[0m: Mammal.__init__() missing 1 required positional argument: 'no_of_legs'"
     ]
    }
   ],
   "source": [
    "class Mammal:\n",
    "    has_hair = True\n",
    "    \n",
    "    def __init__(self, no_of_legs):\n",
    "        self.no_of_legs = no_of_legs\n",
    "\n",
    "human = Mammal()"
   ]
  },
  {
   "cell_type": "code",
   "execution_count": 5,
   "id": "d69e4736",
   "metadata": {},
   "outputs": [],
   "source": [
    "human = Mammal(no_of_legs = 2)"
   ]
  },
  {
   "cell_type": "code",
   "execution_count": 6,
   "id": "8301958f",
   "metadata": {},
   "outputs": [
    {
     "data": {
      "text/plain": [
       "True"
      ]
     },
     "execution_count": 6,
     "metadata": {},
     "output_type": "execute_result"
    }
   ],
   "source": [
    "human.has_hair"
   ]
  },
  {
   "cell_type": "code",
   "execution_count": 7,
   "id": "3607bf49",
   "metadata": {},
   "outputs": [
    {
     "data": {
      "text/plain": [
       "2"
      ]
     },
     "execution_count": 7,
     "metadata": {},
     "output_type": "execute_result"
    }
   ],
   "source": [
    "human.no_of_legs"
   ]
  },
  {
   "cell_type": "code",
   "execution_count": 8,
   "id": "3f38f3f4",
   "metadata": {},
   "outputs": [],
   "source": [
    "cow = Mammal(no_of_legs = 4)"
   ]
  },
  {
   "cell_type": "code",
   "execution_count": 9,
   "id": "358226db",
   "metadata": {},
   "outputs": [
    {
     "data": {
      "text/plain": [
       "4"
      ]
     },
     "execution_count": 9,
     "metadata": {},
     "output_type": "execute_result"
    }
   ],
   "source": [
    "cow.no_of_legs"
   ]
  },
  {
   "cell_type": "code",
   "execution_count": 10,
   "id": "34e740c9",
   "metadata": {},
   "outputs": [
    {
     "data": {
      "text/plain": [
       "True"
      ]
     },
     "execution_count": 10,
     "metadata": {},
     "output_type": "execute_result"
    }
   ],
   "source": [
    "cow.has_hair"
   ]
  },
  {
   "cell_type": "code",
   "execution_count": 12,
   "id": "e52d4cba",
   "metadata": {},
   "outputs": [],
   "source": [
    "class Mammal:\n",
    "    has_hair = True\n",
    "    \n",
    "    def __init__(self, no_of_legs): # self is an object\n",
    "        print(type(self))\n",
    "        self.no_of_legs = no_of_legs\n",
    "        "
   ]
  },
  {
   "cell_type": "code",
   "execution_count": 13,
   "id": "96db8282",
   "metadata": {},
   "outputs": [
    {
     "name": "stdout",
     "output_type": "stream",
     "text": [
      "<class '__main__.Mammal'>\n"
     ]
    }
   ],
   "source": [
    "human = Mammal(no_of_legs = 2)"
   ]
  },
  {
   "cell_type": "code",
   "execution_count": 14,
   "id": "41f310c7",
   "metadata": {},
   "outputs": [
    {
     "name": "stdout",
     "output_type": "stream",
     "text": [
      "<class '__main__.Mammal'>\n"
     ]
    }
   ],
   "source": [
    "print(type(human))"
   ]
  },
  {
   "cell_type": "markdown",
   "id": "ec089dde",
   "metadata": {},
   "source": [
    "# __init__ is object attribute initializer\n",
    "# in OOP constructer is used to create an object. __init__ is not a constructor because it takes .self as argument which is as Object alreadt created. __new__ is constructor in python"
   ]
  },
  {
   "cell_type": "code",
   "execution_count": 15,
   "id": "6d9ab10c",
   "metadata": {},
   "outputs": [],
   "source": [
    "# __init__ le kei value return gardaina /// none chai by default nai huncha\n",
    "# __init__ is used to customize constructed objects\n",
    "# __new__() __init__()"
   ]
  },
  {
   "cell_type": "markdown",
   "id": "be54158a",
   "metadata": {},
   "source": [
    "# calculate area and perimeter of Rectangle using class"
   ]
  },
  {
   "cell_type": "code",
   "execution_count": 16,
   "id": "ccfb100d",
   "metadata": {},
   "outputs": [],
   "source": [
    "class Rectangle:\n",
    "    def __init__(self, l, b):\n",
    "        self.l = l\n",
    "        self.b = b\n",
    "    \n",
    "    def area(self):\n",
    "        return self.l * self.b\n",
    "    \n",
    "    def perimeter(self):\n",
    "        return 2 *(self.l * self.b)\n",
    "\n",
    "    "
   ]
  },
  {
   "cell_type": "code",
   "execution_count": 17,
   "id": "3febece0",
   "metadata": {},
   "outputs": [],
   "source": [
    "r1 = Rectangle(l = 5, b = 3)"
   ]
  },
  {
   "cell_type": "code",
   "execution_count": 18,
   "id": "3f96f692",
   "metadata": {},
   "outputs": [
    {
     "data": {
      "text/plain": [
       "15"
      ]
     },
     "execution_count": 18,
     "metadata": {},
     "output_type": "execute_result"
    }
   ],
   "source": [
    "r1.area()"
   ]
  },
  {
   "cell_type": "code",
   "execution_count": 20,
   "id": "4d08bbf2",
   "metadata": {},
   "outputs": [
    {
     "data": {
      "text/plain": [
       "30"
      ]
     },
     "execution_count": 20,
     "metadata": {},
     "output_type": "execute_result"
    }
   ],
   "source": [
    "r1.perimeter()"
   ]
  },
  {
   "cell_type": "code",
   "execution_count": 21,
   "id": "9932de2f",
   "metadata": {},
   "outputs": [],
   "source": [
    "r2 = Rectangle(l = 3, b = 9)"
   ]
  },
  {
   "cell_type": "code",
   "execution_count": 22,
   "id": "c9b00d02",
   "metadata": {},
   "outputs": [
    {
     "data": {
      "text/plain": [
       "27"
      ]
     },
     "execution_count": 22,
     "metadata": {},
     "output_type": "execute_result"
    }
   ],
   "source": [
    "r2.area()"
   ]
  },
  {
   "cell_type": "code",
   "execution_count": 23,
   "id": "75637da6",
   "metadata": {},
   "outputs": [
    {
     "data": {
      "text/plain": [
       "54"
      ]
     },
     "execution_count": 23,
     "metadata": {},
     "output_type": "execute_result"
    }
   ],
   "source": [
    "r2.perimeter()"
   ]
  },
  {
   "cell_type": "markdown",
   "id": "e9c672ba",
   "metadata": {},
   "source": [
    "# Static method ko barema padne"
   ]
  },
  {
   "cell_type": "code",
   "execution_count": null,
   "id": "8776c39b",
   "metadata": {},
   "outputs": [],
   "source": []
  }
 ],
 "metadata": {
  "kernelspec": {
   "display_name": "Python 3 (ipykernel)",
   "language": "python",
   "name": "python3"
  },
  "language_info": {
   "codemirror_mode": {
    "name": "ipython",
    "version": 3
   },
   "file_extension": ".py",
   "mimetype": "text/x-python",
   "name": "python",
   "nbconvert_exporter": "python",
   "pygments_lexer": "ipython3",
   "version": "3.10.11"
  }
 },
 "nbformat": 4,
 "nbformat_minor": 5
}

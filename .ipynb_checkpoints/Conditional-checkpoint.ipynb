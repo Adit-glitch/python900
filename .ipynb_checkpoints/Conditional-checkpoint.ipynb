{
 "cells": [
  {
   "cell_type": "code",
   "execution_count": 3,
   "id": "e60c1e25",
   "metadata": {},
   "outputs": [
    {
     "data": {
      "text/plain": [
       "0"
      ]
     },
     "execution_count": 3,
     "metadata": {},
     "output_type": "execute_result"
    }
   ],
   "source": [
    "a = 20\n",
    "a % 5 # 20 divide by 5 remainde is zero"
   ]
  },
  {
   "cell_type": "code",
   "execution_count": 5,
   "id": "dcbe2403",
   "metadata": {},
   "outputs": [
    {
     "name": "stdout",
     "output_type": "stream",
     "text": [
      "Bye\n"
     ]
    }
   ],
   "source": [
    "a = 33\n",
    "if a % 5 == 0:\n",
    "    print (\"Hello World\")\n",
    "else:\n",
    "    print('Bye')"
   ]
  },
  {
   "cell_type": "code",
   "execution_count": 6,
   "id": "9b8bb0e1",
   "metadata": {},
   "outputs": [
    {
     "name": "stdout",
     "output_type": "stream",
     "text": [
      "Enter a number : 3\n",
      "Bye\n"
     ]
    }
   ],
   "source": [
    "number = int(input('Enter a number : '))\n",
    "if number % 5 == 0:\n",
    "    print ('Hello')\n",
    "else:\n",
    "    print ('Bye')"
   ]
  },
  {
   "cell_type": "code",
   "execution_count": 11,
   "id": "4c53b4d9",
   "metadata": {},
   "outputs": [
    {
     "name": "stdout",
     "output_type": "stream",
     "text": [
      "Enter a number :3\n",
      "3 is odd number\n"
     ]
    }
   ],
   "source": [
    "# Check even or odd\n",
    "number = int(input('Enter a number :'))\n",
    "if number % 2 == 0:\n",
    "    print (f'{number} is even number')\n",
    "else:\n",
    "    print (f'{number} is odd number')"
   ]
  },
  {
   "cell_type": "markdown",
   "id": "e7632532",
   "metadata": {},
   "source": [
    "# If you miss the indentation"
   ]
  },
  {
   "cell_type": "code",
   "execution_count": 12,
   "id": "4e06e052",
   "metadata": {},
   "outputs": [
    {
     "ename": "IndentationError",
     "evalue": "expected an indented block after 'if' statement on line 1 (424032105.py, line 2)",
     "output_type": "error",
     "traceback": [
      "\u001b[1;36m  Cell \u001b[1;32mIn[12], line 2\u001b[1;36m\u001b[0m\n\u001b[1;33m    print(\"equal\")\u001b[0m\n\u001b[1;37m    ^\u001b[0m\n\u001b[1;31mIndentationError\u001b[0m\u001b[1;31m:\u001b[0m expected an indented block after 'if' statement on line 1\n"
     ]
    }
   ],
   "source": [
    "if 10 == 10:\n",
    "print(\"equal\")"
   ]
  },
  {
   "cell_type": "code",
   "execution_count": null,
   "id": "be070b55",
   "metadata": {},
   "outputs": [],
   "source": []
  }
 ],
 "metadata": {
  "kernelspec": {
   "display_name": "Python 3 (ipykernel)",
   "language": "python",
   "name": "python3"
  },
  "language_info": {
   "codemirror_mode": {
    "name": "ipython",
    "version": 3
   },
   "file_extension": ".py",
   "mimetype": "text/x-python",
   "name": "python",
   "nbconvert_exporter": "python",
   "pygments_lexer": "ipython3",
   "version": "3.10.11"
  }
 },
 "nbformat": 4,
 "nbformat_minor": 5
}

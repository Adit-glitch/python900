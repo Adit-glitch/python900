{
 "cells": [
  {
   "cell_type": "markdown",
   "id": "90750003",
   "metadata": {},
   "source": [
    "# List\n",
    "* Collection of items under one variable name\n",
    "* Support multiple data type\n",
    "* ordered and indexed\n",
    "* support duplicate data\n"
   ]
  },
  {
   "cell_type": "code",
   "execution_count": 5,
   "id": "17414c13",
   "metadata": {},
   "outputs": [
    {
     "name": "stdout",
     "output_type": "stream",
     "text": [
      "<class 'list'>\n"
     ]
    }
   ],
   "source": [
    "l1 = []\n",
    "print(type(l1))"
   ]
  },
  {
   "cell_type": "code",
   "execution_count": 6,
   "id": "1dffc486",
   "metadata": {},
   "outputs": [
    {
     "name": "stdout",
     "output_type": "stream",
     "text": [
      "<class 'list'>\n"
     ]
    }
   ],
   "source": [
    "l2 = list() # using list constructor -- constructor is used to create an object\n",
    "print(type(l2))"
   ]
  },
  {
   "cell_type": "code",
   "execution_count": 7,
   "id": "6048b0b3",
   "metadata": {},
   "outputs": [
    {
     "name": "stdout",
     "output_type": "stream",
     "text": [
      "[True, 2.2, 'ktm', 'ktm', True]\n"
     ]
    }
   ],
   "source": [
    "sample = [True, 2.2, 'ktm', 'ktm', True]\n",
    "print(sample)"
   ]
  },
  {
   "cell_type": "markdown",
   "id": "dfca93f8",
   "metadata": {},
   "source": [
    "# Creating your own list"
   ]
  },
  {
   "cell_type": "code",
   "execution_count": 17,
   "id": "0de5d735",
   "metadata": {},
   "outputs": [
    {
     "name": "stdout",
     "output_type": "stream",
     "text": [
      "['Bhat', 'Masu', 'Gundruk', 'Ghue', 'Papad', 'Sag', 'Dal', 'Gobi', 'Salad']\n"
     ]
    }
   ],
   "source": [
    "thakali_set = ['Bhat', 'Masu', 'Gundruk', 'Ghue', 'Papad', 'Sag', 'Dal', 'Gobi' ,'Salad']\n",
    "print (thakali_set)"
   ]
  },
  {
   "cell_type": "markdown",
   "id": "1a743d96",
   "metadata": {},
   "source": [
    "# Indexing and slicing"
   ]
  },
  {
   "cell_type": "code",
   "execution_count": 11,
   "id": "fac72cb0",
   "metadata": {},
   "outputs": [
    {
     "data": {
      "text/plain": [
       "'Bhat'"
      ]
     },
     "execution_count": 11,
     "metadata": {},
     "output_type": "execute_result"
    }
   ],
   "source": [
    "thakali_set[0]"
   ]
  },
  {
   "cell_type": "code",
   "execution_count": 12,
   "id": "bc782bec",
   "metadata": {},
   "outputs": [
    {
     "data": {
      "text/plain": [
       "'Dal'"
      ]
     },
     "execution_count": 12,
     "metadata": {},
     "output_type": "execute_result"
    }
   ],
   "source": [
    "thakali_set[1]"
   ]
  },
  {
   "cell_type": "code",
   "execution_count": 13,
   "id": "de19dffc",
   "metadata": {},
   "outputs": [
    {
     "data": {
      "text/plain": [
       "'Tarkali'"
      ]
     },
     "execution_count": 13,
     "metadata": {},
     "output_type": "execute_result"
    }
   ],
   "source": [
    "thakali_set[2]"
   ]
  },
  {
   "cell_type": "code",
   "execution_count": 14,
   "id": "e7c408e0",
   "metadata": {},
   "outputs": [
    {
     "data": {
      "text/plain": [
       "'Achar'"
      ]
     },
     "execution_count": 14,
     "metadata": {},
     "output_type": "execute_result"
    }
   ],
   "source": [
    "thakali_set[3]"
   ]
  },
  {
   "cell_type": "code",
   "execution_count": 15,
   "id": "956d3f21",
   "metadata": {},
   "outputs": [
    {
     "data": {
      "text/plain": [
       "'Salad'"
      ]
     },
     "execution_count": 15,
     "metadata": {},
     "output_type": "execute_result"
    }
   ],
   "source": [
    "thakali_set[4]"
   ]
  },
  {
   "cell_type": "code",
   "execution_count": 16,
   "id": "d9d10bfb",
   "metadata": {},
   "outputs": [
    {
     "ename": "IndexError",
     "evalue": "list index out of range",
     "output_type": "error",
     "traceback": [
      "\u001b[1;31m---------------------------------------------------------------------------\u001b[0m",
      "\u001b[1;31mIndexError\u001b[0m                                Traceback (most recent call last)",
      "Cell \u001b[1;32mIn[16], line 1\u001b[0m\n\u001b[1;32m----> 1\u001b[0m \u001b[43mthakali_set\u001b[49m\u001b[43m[\u001b[49m\u001b[38;5;241;43m5\u001b[39;49m\u001b[43m]\u001b[49m\n",
      "\u001b[1;31mIndexError\u001b[0m: list index out of range"
     ]
    }
   ],
   "source": [
    "thakali_set[5]"
   ]
  },
  {
   "cell_type": "code",
   "execution_count": 18,
   "id": "563eb767",
   "metadata": {},
   "outputs": [
    {
     "data": {
      "text/plain": [
       "['Gundruk', 'Ghue', 'Papad']"
      ]
     },
     "execution_count": 18,
     "metadata": {},
     "output_type": "execute_result"
    }
   ],
   "source": [
    "# Slice and find gundruk, gheu, papad\n",
    "thakali_set[2:5]"
   ]
  },
  {
   "cell_type": "code",
   "execution_count": 19,
   "id": "470a61ac",
   "metadata": {},
   "outputs": [
    {
     "data": {
      "text/plain": [
       "['Bhat', 'Masu']"
      ]
     },
     "execution_count": 19,
     "metadata": {},
     "output_type": "execute_result"
    }
   ],
   "source": [
    "# Slice and find bhat and masu\n",
    "thakali_set[0:2]"
   ]
  },
  {
   "cell_type": "code",
   "execution_count": 20,
   "id": "0c682c89",
   "metadata": {},
   "outputs": [
    {
     "data": {
      "text/plain": [
       "['Sag', 'Dal']"
      ]
     },
     "execution_count": 20,
     "metadata": {},
     "output_type": "execute_result"
    }
   ],
   "source": [
    "#slice and find sag and dal\n",
    "thakali_set[5:7]"
   ]
  },
  {
   "cell_type": "code",
   "execution_count": 23,
   "id": "b54a5df0",
   "metadata": {},
   "outputs": [
    {
     "data": {
      "text/plain": [
       "['Bhat', 'Gundruk', 'Papad', 'Dal', 'Salad']"
      ]
     },
     "execution_count": 23,
     "metadata": {},
     "output_type": "execute_result"
    }
   ],
   "source": [
    "#slice and find 'bhat', 'gundruk', 'papad'\n",
    "thakali_set[0:len(thakali_set):2]"
   ]
  },
  {
   "cell_type": "code",
   "execution_count": 24,
   "id": "1f789dcd",
   "metadata": {},
   "outputs": [
    {
     "data": {
      "text/plain": [
       "['Bhat', 'Gundruk', 'Papad', 'Dal', 'Salad']"
      ]
     },
     "execution_count": 24,
     "metadata": {},
     "output_type": "execute_result"
    }
   ],
   "source": [
    "thakali_set[::2]"
   ]
  },
  {
   "cell_type": "markdown",
   "id": "048b3509",
   "metadata": {},
   "source": [
    "# Negative indexing"
   ]
  },
  {
   "cell_type": "code",
   "execution_count": 25,
   "id": "bd37b1dd",
   "metadata": {},
   "outputs": [],
   "source": [
    "thakali_set = ['Bhat', 'Masu', 'Gundruk', 'Ghue', 'Papad', 'Sag', 'Dal', 'Gobi' ,'Salad']"
   ]
  },
  {
   "cell_type": "code",
   "execution_count": 26,
   "id": "8ce7d76e",
   "metadata": {},
   "outputs": [
    {
     "data": {
      "text/plain": [
       "'Salad'"
      ]
     },
     "execution_count": 26,
     "metadata": {},
     "output_type": "execute_result"
    }
   ],
   "source": [
    "thakali_set[-1]"
   ]
  },
  {
   "cell_type": "code",
   "execution_count": 27,
   "id": "1e65a343",
   "metadata": {},
   "outputs": [
    {
     "data": {
      "text/plain": [
       "'Gobi'"
      ]
     },
     "execution_count": 27,
     "metadata": {},
     "output_type": "execute_result"
    }
   ],
   "source": [
    "thakali_set[-2]"
   ]
  },
  {
   "cell_type": "code",
   "execution_count": 28,
   "id": "53c4e19d",
   "metadata": {},
   "outputs": [
    {
     "data": {
      "text/plain": [
       "'Dal'"
      ]
     },
     "execution_count": 28,
     "metadata": {},
     "output_type": "execute_result"
    }
   ],
   "source": [
    "thakali_set[-3]"
   ]
  },
  {
   "cell_type": "code",
   "execution_count": 29,
   "id": "acb18eb1",
   "metadata": {},
   "outputs": [
    {
     "data": {
      "text/plain": [
       "'Sag'"
      ]
     },
     "execution_count": 29,
     "metadata": {},
     "output_type": "execute_result"
    }
   ],
   "source": [
    "thakali_set[-4]"
   ]
  },
  {
   "cell_type": "code",
   "execution_count": 33,
   "id": "ca9b7030",
   "metadata": {},
   "outputs": [
    {
     "data": {
      "text/plain": [
       "['Gobi', 'Salad']"
      ]
     },
     "execution_count": 33,
     "metadata": {},
     "output_type": "execute_result"
    }
   ],
   "source": [
    "thakali_set[-2:]"
   ]
  },
  {
   "cell_type": "code",
   "execution_count": 34,
   "id": "8bc0eb39",
   "metadata": {},
   "outputs": [
    {
     "data": {
      "text/plain": [
       "['Papad', 'Sag', 'Dal']"
      ]
     },
     "execution_count": 34,
     "metadata": {},
     "output_type": "execute_result"
    }
   ],
   "source": [
    "thakali_set[-5:-2]"
   ]
  },
  {
   "cell_type": "code",
   "execution_count": 35,
   "id": "c90cf24a",
   "metadata": {},
   "outputs": [
    {
     "data": {
      "text/plain": [
       "['Salad', 'Gobi', 'Dal', 'Sag', 'Papad', 'Ghue', 'Gundruk', 'Masu', 'Bhat']"
      ]
     },
     "execution_count": 35,
     "metadata": {},
     "output_type": "execute_result"
    }
   ],
   "source": [
    "thakali_set[::-1]"
   ]
  },
  {
   "cell_type": "code",
   "execution_count": 40,
   "id": "5553a06d",
   "metadata": {},
   "outputs": [
    {
     "data": {
      "text/plain": [
       "['Salad', 'Gobi', 'Dal', 'Sag']"
      ]
     },
     "execution_count": 40,
     "metadata": {},
     "output_type": "execute_result"
    }
   ],
   "source": [
    "thakali_set[-1:-5:-1]"
   ]
  },
  {
   "cell_type": "markdown",
   "id": "d156bbae",
   "metadata": {},
   "source": [
    "# Loop"
   ]
  },
  {
   "cell_type": "code",
   "execution_count": 42,
   "id": "eb84c0b6",
   "metadata": {},
   "outputs": [
    {
     "name": "stdout",
     "output_type": "stream",
     "text": [
      "0 = Bhat\n",
      "1 = Masu\n",
      "2 = Gundruk\n",
      "3 = Ghue\n",
      "4 = Papad\n",
      "5 = Sag\n",
      "6 = Dal\n",
      "7 = Gobi\n",
      "8 = Salad\n"
     ]
    }
   ],
   "source": [
    "thakali_set = ['Bhat', 'Masu', 'Gundruk', 'Ghue', 'Papad', 'Sag', 'Dal', 'Gobi' ,'Salad']\n",
    "for i in range(len(thakali_set)):\n",
    "    print(f'{i} = {thakali_set[i]}')"
   ]
  },
  {
   "cell_type": "markdown",
   "id": "f5a26263",
   "metadata": {},
   "source": [
    "# find total of given list"
   ]
  },
  {
   "cell_type": "code",
   "execution_count": 43,
   "id": "ceb3f3df",
   "metadata": {},
   "outputs": [
    {
     "name": "stdout",
     "output_type": "stream",
     "text": [
      "26\n"
     ]
    }
   ],
   "source": [
    "num = [5,7,6,8]\n",
    "total = 0\n",
    "for i in range(len(num)):\n",
    "    total += num[i]\n",
    "print (total)"
   ]
  },
  {
   "cell_type": "code",
   "execution_count": 44,
   "id": "405d4139",
   "metadata": {},
   "outputs": [
    {
     "data": {
      "text/plain": [
       "6.5"
      ]
     },
     "execution_count": 44,
     "metadata": {},
     "output_type": "execute_result"
    }
   ],
   "source": [
    "total/len(num)"
   ]
  },
  {
   "cell_type": "code",
   "execution_count": 45,
   "id": "09180ad0",
   "metadata": {},
   "outputs": [
    {
     "name": "stdout",
     "output_type": "stream",
     "text": [
      "6.5\n"
     ]
    }
   ],
   "source": [
    "num = [5,7,6,8]\n",
    "total = 0\n",
    "mean = 0\n",
    "length = len(num)\n",
    "for i in range(length):\n",
    "    total += num[i]\n",
    "mean = total / length\n",
    "print(mean)"
   ]
  },
  {
   "cell_type": "markdown",
   "id": "38500d30",
   "metadata": {},
   "source": [
    "# Membership Operator\n",
    "* in and not in are membership operator"
   ]
  },
  {
   "cell_type": "code",
   "execution_count": 46,
   "id": "8299b180",
   "metadata": {},
   "outputs": [
    {
     "data": {
      "text/plain": [
       "True"
      ]
     },
     "execution_count": 46,
     "metadata": {},
     "output_type": "execute_result"
    }
   ],
   "source": [
    "thakali_set = ['Bhat', 'Masu', 'Gundruk', 'Ghue', 'Papad', 'Sag', 'Dal', 'Gobi' ,'Salad']\n",
    "'Masu' in thakali_set"
   ]
  },
  {
   "cell_type": "code",
   "execution_count": 47,
   "id": "71355aa5",
   "metadata": {},
   "outputs": [
    {
     "data": {
      "text/plain": [
       "False"
      ]
     },
     "execution_count": 47,
     "metadata": {},
     "output_type": "execute_result"
    }
   ],
   "source": [
    "'Masu' not in thakali_set"
   ]
  },
  {
   "cell_type": "code",
   "execution_count": 48,
   "id": "8e6bf99c",
   "metadata": {},
   "outputs": [
    {
     "data": {
      "text/plain": [
       "False"
      ]
     },
     "execution_count": 48,
     "metadata": {},
     "output_type": "execute_result"
    }
   ],
   "source": [
    "'Chatni' in thakali_set"
   ]
  },
  {
   "cell_type": "code",
   "execution_count": 49,
   "id": "54d61623",
   "metadata": {},
   "outputs": [
    {
     "data": {
      "text/plain": [
       "True"
      ]
     },
     "execution_count": 49,
     "metadata": {},
     "output_type": "execute_result"
    }
   ],
   "source": [
    "'chatni' not in thakali_set"
   ]
  },
  {
   "cell_type": "code",
   "execution_count": 50,
   "id": "117a02c4",
   "metadata": {},
   "outputs": [
    {
     "data": {
      "text/plain": [
       "True"
      ]
     },
     "execution_count": 50,
     "metadata": {},
     "output_type": "execute_result"
    }
   ],
   "source": [
    "msg = 'Hello'\n",
    "'H' in msg\n"
   ]
  },
  {
   "cell_type": "markdown",
   "id": "9c296802",
   "metadata": {},
   "source": [
    "# List method\n",
    "* list is a mutable data type(same memory location ma replace huncha)"
   ]
  },
  {
   "cell_type": "code",
   "execution_count": 54,
   "id": "8d4070a5",
   "metadata": {},
   "outputs": [
    {
     "data": {
      "text/plain": [
       "2076685770624"
      ]
     },
     "execution_count": 54,
     "metadata": {},
     "output_type": "execute_result"
    }
   ],
   "source": [
    "cars = ['Mercedes', 'BMW', 'Tesla', 'Bugati', 'Audi', 'lambo']\n",
    "id(cars)"
   ]
  },
  {
   "cell_type": "code",
   "execution_count": 55,
   "id": "e50fd1ef",
   "metadata": {},
   "outputs": [
    {
     "data": {
      "text/plain": [
       "2076685770624"
      ]
     },
     "execution_count": 55,
     "metadata": {},
     "output_type": "execute_result"
    }
   ],
   "source": [
    "cars[2] = 'Bently'\n",
    "id(cars)"
   ]
  },
  {
   "cell_type": "code",
   "execution_count": 53,
   "id": "2800a23a",
   "metadata": {},
   "outputs": [
    {
     "name": "stdout",
     "output_type": "stream",
     "text": [
      "['Mercedes', 'BMW', 'Bently', 'Bugati', 'Audi', 'lambo']\n"
     ]
    }
   ],
   "source": [
    "print(cars)"
   ]
  },
  {
   "cell_type": "code",
   "execution_count": 56,
   "id": "4f9c8b72",
   "metadata": {},
   "outputs": [
    {
     "name": "stdout",
     "output_type": "stream",
     "text": [
      "['apple', 'blackcurrent', 'watermelon', 'orange', 'kiwi', 'mango']\n"
     ]
    }
   ],
   "source": [
    "fruits = ['apple', 'banana', 'mango', 'orange', 'kiwi', 'mango']\n",
    "fruits[1:3] = ['blackcurrent', 'watermelon']\n",
    "print(fruits)"
   ]
  },
  {
   "cell_type": "markdown",
   "id": "7a8832dd",
   "metadata": {},
   "source": [
    "# Insert"
   ]
  },
  {
   "cell_type": "code",
   "execution_count": 57,
   "id": "4938ec0c",
   "metadata": {},
   "outputs": [
    {
     "name": "stdout",
     "output_type": "stream",
     "text": [
      "['apple', 'lichi', 'banana', 'mango', 'orange', 'kiwi', 'mango']\n"
     ]
    }
   ],
   "source": [
    "fruits = ['apple', 'banana', 'mango', 'orange', 'kiwi', 'mango']\n",
    "fruits.insert(1, 'lichi')\n",
    "print(fruits)"
   ]
  },
  {
   "cell_type": "markdown",
   "id": "1e67a499",
   "metadata": {},
   "source": [
    "# Append\n"
   ]
  },
  {
   "cell_type": "code",
   "execution_count": 67,
   "id": "4a774d90",
   "metadata": {},
   "outputs": [
    {
     "name": "stdout",
     "output_type": "stream",
     "text": [
      "['Ram']\n"
     ]
    }
   ],
   "source": [
    "line = []\n",
    "line.append('Ram')\n",
    "print(line)"
   ]
  },
  {
   "cell_type": "code",
   "execution_count": 68,
   "id": "da3c8fa5",
   "metadata": {},
   "outputs": [
    {
     "name": "stdout",
     "output_type": "stream",
     "text": [
      "['Ram', 'Laxman']\n"
     ]
    }
   ],
   "source": [
    "line.append('Laxman')\n",
    "print(line)"
   ]
  },
  {
   "cell_type": "code",
   "execution_count": 69,
   "id": "884c7336",
   "metadata": {},
   "outputs": [
    {
     "name": "stdout",
     "output_type": "stream",
     "text": [
      "['Ram', 'Laxman', 'Sita']\n"
     ]
    }
   ],
   "source": [
    "line.append('Sita')\n",
    "print(line)"
   ]
  },
  {
   "cell_type": "code",
   "execution_count": 70,
   "id": "885b60b3",
   "metadata": {},
   "outputs": [
    {
     "name": "stdout",
     "output_type": "stream",
     "text": [
      "['Ram', 'Laxman', 'Sita', 'Rawan']\n"
     ]
    }
   ],
   "source": [
    "line.append('Rawan')\n",
    "print(line)"
   ]
  },
  {
   "cell_type": "code",
   "execution_count": 71,
   "id": "39cbd6e1",
   "metadata": {},
   "outputs": [
    {
     "name": "stdout",
     "output_type": "stream",
     "text": [
      "Enter your gift name: Mercedes\n",
      "Enter your gift name: $10 stem wallet\n",
      "Enter your gift name: nokia 3310\n",
      "Enter your gift name: thar\n",
      "Enter your gift name: wrangler\n",
      "Enter your gift name: island\n",
      "Enter your gift name: patek phllipe watch\n",
      "Enter your gift name: harry potter whole set\n",
      "Enter your gift name: JBL headset\n",
      "Enter your gift name: Helicopter\n"
     ]
    }
   ],
   "source": [
    "gift = []\n",
    "for i in range(10):\n",
    "    name = input('Enter your gift name: ')\n",
    "    gift.append(name)"
   ]
  },
  {
   "cell_type": "code",
   "execution_count": 72,
   "id": "d2d723d6",
   "metadata": {},
   "outputs": [
    {
     "name": "stdout",
     "output_type": "stream",
     "text": [
      "['Mercedes', '$10 stem wallet', 'nokia 3310', 'thar', 'wrangler', 'island', 'patek phllipe watch', 'harry potter whole set', 'JBL headset', 'Helicopter']\n"
     ]
    }
   ],
   "source": [
    "print(gift)"
   ]
  },
  {
   "cell_type": "markdown",
   "id": "2e70fc69",
   "metadata": {},
   "source": [
    "# concatenation"
   ]
  },
  {
   "cell_type": "code",
   "execution_count": 74,
   "id": "b0f16e11",
   "metadata": {},
   "outputs": [
    {
     "data": {
      "text/plain": [
       "[1, 2, 3, 55, 44, 0]"
      ]
     },
     "execution_count": 74,
     "metadata": {},
     "output_type": "execute_result"
    }
   ],
   "source": [
    "[1, 2, 3] + [55, 44, 0] # list concat\n"
   ]
  },
  {
   "cell_type": "code",
   "execution_count": 75,
   "id": "807c1162",
   "metadata": {},
   "outputs": [
    {
     "data": {
      "text/plain": [
       "'RadheRadhe'"
      ]
     },
     "execution_count": 75,
     "metadata": {},
     "output_type": "execute_result"
    }
   ],
   "source": [
    "'Radhe' + 'Radhe' # string concat"
   ]
  },
  {
   "cell_type": "markdown",
   "id": "100dd652",
   "metadata": {},
   "source": [
    "# Sort\n"
   ]
  },
  {
   "cell_type": "code",
   "execution_count": 77,
   "id": "cd839703",
   "metadata": {},
   "outputs": [
    {
     "name": "stdout",
     "output_type": "stream",
     "text": [
      "[1, 2, 3, 3, 4, 5, 5, 6, 8]\n"
     ]
    }
   ],
   "source": [
    "x = [1,4,2,5,3,5,6,3,8]\n",
    "x.sort()\n",
    "print (x)"
   ]
  },
  {
   "cell_type": "code",
   "execution_count": 79,
   "id": "9d935f2d",
   "metadata": {},
   "outputs": [
    {
     "name": "stdout",
     "output_type": "stream",
     "text": [
      "[8, 6, 5, 5, 4, 3, 3, 2, 1]\n"
     ]
    }
   ],
   "source": [
    "x.sort(reverse = True)\n",
    "print (x)"
   ]
  },
  {
   "cell_type": "code",
   "execution_count": 82,
   "id": "a10abcd7",
   "metadata": {},
   "outputs": [
    {
     "name": "stdout",
     "output_type": "stream",
     "text": [
      "[1, 2, 3, 3, 4, 5, 5, 6, 8]\n"
     ]
    }
   ],
   "source": [
    "print(sorted(x)) # item will sorted but x will be same, its builtin function"
   ]
  },
  {
   "cell_type": "markdown",
   "id": "192c536a",
   "metadata": {},
   "source": [
    "# extend\n"
   ]
  },
  {
   "cell_type": "code",
   "execution_count": 1,
   "id": "24cc9143",
   "metadata": {},
   "outputs": [],
   "source": [
    "x = [2, 4, 5]\n",
    "y = [99, 0, 6, 1]"
   ]
  },
  {
   "cell_type": "code",
   "execution_count": 2,
   "id": "dfe87d91",
   "metadata": {},
   "outputs": [
    {
     "name": "stdout",
     "output_type": "stream",
     "text": [
      "[2, 4, 5, 99, 0, 6, 1]\n"
     ]
    }
   ],
   "source": [
    "x.extend(y)\n",
    "print(x)"
   ]
  },
  {
   "cell_type": "code",
   "execution_count": 3,
   "id": "a5464cdd",
   "metadata": {},
   "outputs": [
    {
     "name": "stdout",
     "output_type": "stream",
     "text": [
      "[99, 0, 6, 1]\n"
     ]
    }
   ],
   "source": [
    "print(y)"
   ]
  },
  {
   "cell_type": "markdown",
   "id": "2ff127e3",
   "metadata": {},
   "source": [
    "# remove\n"
   ]
  },
  {
   "cell_type": "code",
   "execution_count": 5,
   "id": "57a2fdec",
   "metadata": {},
   "outputs": [],
   "source": [
    "l1 = [2, 4, 5, 6, 7, 2, 7, 1]\n",
    "l1.remove(7)"
   ]
  },
  {
   "cell_type": "code",
   "execution_count": 6,
   "id": "bb940ea0",
   "metadata": {},
   "outputs": [
    {
     "name": "stdout",
     "output_type": "stream",
     "text": [
      "[2, 4, 5, 6, 2, 7, 1]\n"
     ]
    }
   ],
   "source": [
    "print(l1)"
   ]
  },
  {
   "cell_type": "markdown",
   "id": "b71a4cc4",
   "metadata": {},
   "source": [
    "# pop\n",
    "\n"
   ]
  },
  {
   "cell_type": "code",
   "execution_count": 7,
   "id": "320a8811",
   "metadata": {},
   "outputs": [],
   "source": [
    "l1 = [2, 4, 5, 6, 7, 2, 7, 1]"
   ]
  },
  {
   "cell_type": "code",
   "execution_count": 8,
   "id": "e677b2f0",
   "metadata": {},
   "outputs": [
    {
     "data": {
      "text/plain": [
       "1"
      ]
     },
     "execution_count": 8,
     "metadata": {},
     "output_type": "execute_result"
    }
   ],
   "source": [
    "l1.pop() # last ko value falxa"
   ]
  },
  {
   "cell_type": "code",
   "execution_count": 9,
   "id": "ebffe311",
   "metadata": {},
   "outputs": [
    {
     "name": "stdout",
     "output_type": "stream",
     "text": [
      "[2, 4, 5, 6, 7, 2, 7]\n"
     ]
    }
   ],
   "source": [
    "print(l1)"
   ]
  },
  {
   "cell_type": "code",
   "execution_count": 10,
   "id": "de183612",
   "metadata": {},
   "outputs": [
    {
     "data": {
      "text/plain": [
       "7"
      ]
     },
     "execution_count": 10,
     "metadata": {},
     "output_type": "execute_result"
    }
   ],
   "source": [
    "l1.pop()"
   ]
  },
  {
   "cell_type": "code",
   "execution_count": 11,
   "id": "f33b54d3",
   "metadata": {},
   "outputs": [
    {
     "name": "stdout",
     "output_type": "stream",
     "text": [
      "[2, 4, 5, 6, 7, 2]\n"
     ]
    }
   ],
   "source": [
    "print (l1)"
   ]
  },
  {
   "cell_type": "code",
   "execution_count": 12,
   "id": "4a3bb6a3",
   "metadata": {},
   "outputs": [
    {
     "data": {
      "text/plain": [
       "5"
      ]
     },
     "execution_count": 12,
     "metadata": {},
     "output_type": "execute_result"
    }
   ],
   "source": [
    "# indexing in pop\n",
    "l1.pop(2) # remove the value in index 2"
   ]
  },
  {
   "cell_type": "code",
   "execution_count": 13,
   "id": "83a8ccd6",
   "metadata": {},
   "outputs": [
    {
     "name": "stdout",
     "output_type": "stream",
     "text": [
      "[2, 4, 6, 7, 2]\n"
     ]
    }
   ],
   "source": [
    "print(l1)"
   ]
  },
  {
   "cell_type": "code",
   "execution_count": null,
   "id": "f16073f6",
   "metadata": {},
   "outputs": [],
   "source": []
  }
 ],
 "metadata": {
  "kernelspec": {
   "display_name": "Python 3 (ipykernel)",
   "language": "python",
   "name": "python3"
  },
  "language_info": {
   "codemirror_mode": {
    "name": "ipython",
    "version": 3
   },
   "file_extension": ".py",
   "mimetype": "text/x-python",
   "name": "python",
   "nbconvert_exporter": "python",
   "pygments_lexer": "ipython3",
   "version": "3.10.11"
  }
 },
 "nbformat": 4,
 "nbformat_minor": 5
}

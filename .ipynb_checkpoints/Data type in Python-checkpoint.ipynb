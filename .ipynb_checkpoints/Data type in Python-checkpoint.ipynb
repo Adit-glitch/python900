{
 "cells": [
  {
   "cell_type": "markdown",
   "id": "f5d646bb",
   "metadata": {},
   "source": [
    "# Datatype\n",
    "* Python Number : int, float, complex\n",
    "* Python Strings\n",
    "* Python List\n",
    "* Python Tuple\n",
    "* Python Set\n",
    "* Python Dictionary"
   ]
  },
  {
   "cell_type": "code",
   "execution_count": 1,
   "id": "f5b8489d",
   "metadata": {},
   "outputs": [
    {
     "name": "stdout",
     "output_type": "stream",
     "text": [
      " The value of a is 2 and its datatype is <class 'int'>\n",
      " The value if b is 0.3 and its datatype is <class 'float'>\n",
      " The value of c is (0.1+0.8j) and its datatype is <class 'complex'>\n"
     ]
    }
   ],
   "source": [
    "a, b, c = 2, 0.3, 0.1 + 0.8j\n",
    "print(f' The value of a is {a} and its datatype is {type(a)}')\n",
    "print(f' The value if b is {b} and its datatype is {type(b)}')\n",
    "print(f' The value of c is {c} and its datatype is {type(c)}')\n",
    " "
   ]
  },
  {
   "cell_type": "code",
   "execution_count": 3,
   "id": "3a621396",
   "metadata": {},
   "outputs": [
    {
     "name": "stdout",
     "output_type": "stream",
     "text": [
      "The value of name is Ram and its datatype is <class 'str'>\n"
     ]
    }
   ],
   "source": [
    "name = \"Ram\"\n",
    "print(f'The value of name is {name} and its datatype is {type(name)}')"
   ]
  },
  {
   "cell_type": "code",
   "execution_count": 4,
   "id": "cd4a643c",
   "metadata": {},
   "outputs": [
    {
     "name": "stdout",
     "output_type": "stream",
     "text": [
      "The value of list is [1, 2, 3, 4, 5] and its datatype is <class 'list'>\n"
     ]
    }
   ],
   "source": [
    "list = [1,2,3,4,5]\n",
    "print(f'The value of list is {list} and its datatype is {type(list)}')"
   ]
  },
  {
   "cell_type": "code",
   "execution_count": null,
   "id": "b0c918e3",
   "metadata": {},
   "outputs": [],
   "source": []
  }
 ],
 "metadata": {
  "kernelspec": {
   "display_name": "Python 3 (ipykernel)",
   "language": "python",
   "name": "python3"
  },
  "language_info": {
   "codemirror_mode": {
    "name": "ipython",
    "version": 3
   },
   "file_extension": ".py",
   "mimetype": "text/x-python",
   "name": "python",
   "nbconvert_exporter": "python",
   "pygments_lexer": "ipython3",
   "version": "3.10.11"
  }
 },
 "nbformat": 4,
 "nbformat_minor": 5
}

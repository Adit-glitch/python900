{
 "cells": [
  {
   "cell_type": "code",
   "execution_count": 1,
   "id": "da73d0a6",
   "metadata": {},
   "outputs": [
    {
     "name": "stdout",
     "output_type": "stream",
     "text": [
      "Before Swap num1 = 2.5\n",
      "Before Swap num2 = 0.36\n",
      "After Swap num1 = 0.36\n",
      "After Swap num2 = 2.5\n"
     ]
    }
   ],
   "source": [
    "# Swap values using temp variable\n",
    "num1 = 2.5\n",
    "num2 = 0.36\n",
    "\n",
    "print (f'Before Swap num1 = {num1}')\n",
    "print (f'Before Swap num2 = {num2}')\n",
    "\n",
    "temp = num1\n",
    "num1 = num2\n",
    "num2 = temp\n",
    "\n",
    "print (f'After Swap num1 = {num1}')\n",
    "print (f'After Swap num2 = {num2}')\n",
    "\n",
    "\n"
   ]
  },
  {
   "cell_type": "code",
   "execution_count": 1,
   "id": "137f5ac6",
   "metadata": {},
   "outputs": [
    {
     "name": "stdout",
     "output_type": "stream",
     "text": [
      "42 min, 42 sec = 2562 sec\n",
      "10 kilometers = 6.215040397762586 miles\n",
      "average pace = 0.002 miles per second\n",
      "average pace = 0.12 miles per min\n",
      "average pace = 7.199999999999999 miles per hour\n"
     ]
    }
   ],
   "source": [
    "# How many seconds are there in 42 min 42 sec\n",
    "time = 42*60 + 42\n",
    "print (f\"42 min, 42 sec = {time} sec\")\n",
    "\n",
    "# How many miles are there in 10 kilometers\n",
    "distance = 10 / 1.609\n",
    "print (f'10 kilometers = {distance} miles')\n",
    "\n",
    "# If you run a 10 kilometer race in 42 minutes 42 seconds, what is your average pace\n",
    "avg_pace_per_sec = distance / time\n",
    "avg_pave_per_min = avg_pace_per_sec * 60\n",
    "avg_pave_per_hour = avg_pave_per_min * 60\n",
    "\n",
    "print (f'average pace = {avg_pace_per_sec} miles per second')\n",
    "print (f'average pace = {avg_pave_per_min} miles per min')\n",
    "print (f'average pace = {avg_pave_per_hour} miles per hour')\n"
   ]
  },
  {
   "cell_type": "code",
   "execution_count": null,
   "id": "c35924d4",
   "metadata": {},
   "outputs": [],
   "source": []
  }
 ],
 "metadata": {
  "kernelspec": {
   "display_name": "Python 3 (ipykernel)",
   "language": "python",
   "name": "python3"
  },
  "language_info": {
   "codemirror_mode": {
    "name": "ipython",
    "version": 3
   },
   "file_extension": ".py",
   "mimetype": "text/x-python",
   "name": "python",
   "nbconvert_exporter": "python",
   "pygments_lexer": "ipython3",
   "version": "3.10.11"
  }
 },
 "nbformat": 4,
 "nbformat_minor": 5
}

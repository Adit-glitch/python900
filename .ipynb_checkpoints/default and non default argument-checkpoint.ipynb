{
 "cells": [
  {
   "cell_type": "code",
   "execution_count": 2,
   "id": "69d375f7",
   "metadata": {},
   "outputs": [],
   "source": [
    "def greet(name, msg):\n",
    "    print(f'Hello, {name}, {msg}')"
   ]
  },
  {
   "cell_type": "code",
   "execution_count": 3,
   "id": "ae51381a",
   "metadata": {},
   "outputs": [
    {
     "name": "stdout",
     "output_type": "stream",
     "text": [
      "Hello, Ram, Good Morning\n"
     ]
    }
   ],
   "source": [
    "greet(name = 'Ram', msg = 'Good Morning')"
   ]
  },
  {
   "cell_type": "code",
   "execution_count": 5,
   "id": "f160f5ab",
   "metadata": {},
   "outputs": [
    {
     "name": "stdout",
     "output_type": "stream",
     "text": [
      "Hello, Govind, Good morning\n"
     ]
    }
   ],
   "source": [
    "greet(name = 'Govind', msg = 'Good morning')"
   ]
  },
  {
   "cell_type": "code",
   "execution_count": 6,
   "id": "3b810ba9",
   "metadata": {},
   "outputs": [],
   "source": [
    "def greet(name, msg = 'Good Morning'): # msg has default argument\n",
    "    print(f'Hello, {name}, {msg}')"
   ]
  },
  {
   "cell_type": "code",
   "execution_count": 7,
   "id": "14e3158c",
   "metadata": {},
   "outputs": [
    {
     "name": "stdout",
     "output_type": "stream",
     "text": [
      "Hello, Ram, Good Morning\n"
     ]
    }
   ],
   "source": [
    "greet('Ram')"
   ]
  },
  {
   "cell_type": "code",
   "execution_count": 9,
   "id": "86fe32c3",
   "metadata": {},
   "outputs": [
    {
     "name": "stdout",
     "output_type": "stream",
     "text": [
      "Hello, Sita, Good Afternoon\n"
     ]
    }
   ],
   "source": [
    "greet(name = 'Sita', msg = 'Good Afternoon') # msg overwrites default argument on function"
   ]
  },
  {
   "cell_type": "code",
   "execution_count": 10,
   "id": "31bb2031",
   "metadata": {},
   "outputs": [
    {
     "name": "stdout",
     "output_type": "stream",
     "text": [
      "Hello, Laxman, Good Morning\n"
     ]
    }
   ],
   "source": [
    "greet(name = 'Laxman')"
   ]
  },
  {
   "cell_type": "markdown",
   "id": "20b1c1f1",
   "metadata": {},
   "source": [
    "# in python non default argument doesnot follow default argument"
   ]
  },
  {
   "cell_type": "code",
   "execution_count": 11,
   "id": "7989cb65",
   "metadata": {},
   "outputs": [
    {
     "ename": "SyntaxError",
     "evalue": "non-default argument follows default argument (4192973277.py, line 1)",
     "output_type": "error",
     "traceback": [
      "\u001b[1;36m  Cell \u001b[1;32mIn[11], line 1\u001b[1;36m\u001b[0m\n\u001b[1;33m    def greet(msg = \"Good Morning\", name):\u001b[0m\n\u001b[1;37m                                    ^\u001b[0m\n\u001b[1;31mSyntaxError\u001b[0m\u001b[1;31m:\u001b[0m non-default argument follows default argument\n"
     ]
    }
   ],
   "source": [
    "def greet(msg = \"Good Morning\", name):\n",
    "    print('hh')"
   ]
  },
  {
   "cell_type": "code",
   "execution_count": 16,
   "id": "077e67b9",
   "metadata": {},
   "outputs": [],
   "source": [
    "name = 'Ram' # Global variable\n",
    "def viral():\n",
    "    name = 'Shyam' # local variable\n",
    "    print(name)"
   ]
  },
  {
   "cell_type": "code",
   "execution_count": 17,
   "id": "d6866b56",
   "metadata": {},
   "outputs": [
    {
     "data": {
      "text/plain": [
       "'Ram'"
      ]
     },
     "execution_count": 17,
     "metadata": {},
     "output_type": "execute_result"
    }
   ],
   "source": [
    "name"
   ]
  },
  {
   "cell_type": "code",
   "execution_count": 18,
   "id": "23cd2fcb",
   "metadata": {},
   "outputs": [
    {
     "name": "stdout",
     "output_type": "stream",
     "text": [
      "Shyam\n"
     ]
    }
   ],
   "source": [
    "viral()"
   ]
  },
  {
   "cell_type": "code",
   "execution_count": 19,
   "id": "02055f4a",
   "metadata": {},
   "outputs": [
    {
     "data": {
      "text/plain": [
       "'Ram'"
      ]
     },
     "execution_count": 19,
     "metadata": {},
     "output_type": "execute_result"
    }
   ],
   "source": [
    "name"
   ]
  },
  {
   "cell_type": "markdown",
   "id": "df218425",
   "metadata": {},
   "source": [
    "# global"
   ]
  },
  {
   "cell_type": "code",
   "execution_count": 20,
   "id": "eaefc751",
   "metadata": {},
   "outputs": [],
   "source": [
    "name = 'Ram' # Global variable\n",
    "def viral():\n",
    "    global name\n",
    "    name = 'Shyam' # local variable\n",
    "    print(name)"
   ]
  },
  {
   "cell_type": "code",
   "execution_count": 21,
   "id": "971a4cdf",
   "metadata": {},
   "outputs": [
    {
     "data": {
      "text/plain": [
       "'Ram'"
      ]
     },
     "execution_count": 21,
     "metadata": {},
     "output_type": "execute_result"
    }
   ],
   "source": [
    "name\n"
   ]
  },
  {
   "cell_type": "code",
   "execution_count": 22,
   "id": "1cc38631",
   "metadata": {},
   "outputs": [
    {
     "name": "stdout",
     "output_type": "stream",
     "text": [
      "Shyam\n"
     ]
    }
   ],
   "source": [
    "viral()"
   ]
  },
  {
   "cell_type": "code",
   "execution_count": 23,
   "id": "86e6b9bf",
   "metadata": {},
   "outputs": [
    {
     "data": {
      "text/plain": [
       "'Shyam'"
      ]
     },
     "execution_count": 23,
     "metadata": {},
     "output_type": "execute_result"
    }
   ],
   "source": [
    "name"
   ]
  },
  {
   "cell_type": "code",
   "execution_count": null,
   "id": "b4db1f9d",
   "metadata": {},
   "outputs": [],
   "source": []
  }
 ],
 "metadata": {
  "kernelspec": {
   "display_name": "Python 3 (ipykernel)",
   "language": "python",
   "name": "python3"
  },
  "language_info": {
   "codemirror_mode": {
    "name": "ipython",
    "version": 3
   },
   "file_extension": ".py",
   "mimetype": "text/x-python",
   "name": "python",
   "nbconvert_exporter": "python",
   "pygments_lexer": "ipython3",
   "version": "3.10.11"
  }
 },
 "nbformat": 4,
 "nbformat_minor": 5
}

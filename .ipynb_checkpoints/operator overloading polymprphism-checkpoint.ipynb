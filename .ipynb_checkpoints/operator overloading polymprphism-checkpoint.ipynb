{
 "cells": [
  {
   "cell_type": "code",
   "execution_count": 4,
   "id": "a751c149",
   "metadata": {},
   "outputs": [],
   "source": [
    "class Point:\n",
    "    def __init__(self, p):\n",
    "        self.p = p"
   ]
  },
  {
   "cell_type": "code",
   "execution_count": 5,
   "id": "b85c9f59",
   "metadata": {},
   "outputs": [],
   "source": [
    "p1 = Point(5)\n",
    "p2 = Point(3)"
   ]
  },
  {
   "cell_type": "code",
   "execution_count": 6,
   "id": "7bb84126",
   "metadata": {},
   "outputs": [
    {
     "ename": "TypeError",
     "evalue": "unsupported operand type(s) for +: 'Point' and 'Point'",
     "output_type": "error",
     "traceback": [
      "\u001b[1;31m---------------------------------------------------------------------------\u001b[0m",
      "\u001b[1;31mTypeError\u001b[0m                                 Traceback (most recent call last)",
      "Cell \u001b[1;32mIn[6], line 1\u001b[0m\n\u001b[1;32m----> 1\u001b[0m \u001b[43mp1\u001b[49m\u001b[43m \u001b[49m\u001b[38;5;241;43m+\u001b[39;49m\u001b[43m \u001b[49m\u001b[43mp2\u001b[49m\n",
      "\u001b[1;31mTypeError\u001b[0m: unsupported operand type(s) for +: 'Point' and 'Point'"
     ]
    }
   ],
   "source": [
    "p1 + p2"
   ]
  },
  {
   "cell_type": "code",
   "execution_count": 9,
   "id": "2607ded1",
   "metadata": {},
   "outputs": [],
   "source": [
    "class Point:\n",
    "    def __init__(self, p):\n",
    "        self.p = p\n",
    "    \n",
    "    def __add__(self, second_obj):\n",
    "        return self.p + second_obj.p"
   ]
  },
  {
   "cell_type": "code",
   "execution_count": 10,
   "id": "a2c5c8fb",
   "metadata": {},
   "outputs": [
    {
     "data": {
      "text/plain": [
       "8"
      ]
     },
     "execution_count": 10,
     "metadata": {},
     "output_type": "execute_result"
    }
   ],
   "source": [
    "p1 = Point(5)\n",
    "p2 = Point(3)\n",
    "p1 + p2"
   ]
  },
  {
   "cell_type": "code",
   "execution_count": 17,
   "id": "44b0b033",
   "metadata": {},
   "outputs": [],
   "source": [
    "class Point:\n",
    "    def __init__(self, p):\n",
    "        self.p = p\n",
    "    \n",
    "    def __lt__(self, second_obj):\n",
    "        if self.p < second_obj.p:\n",
    "            print(f'{self.p} < {second_obj}')\n",
    "        else:\n",
    "            print(f'{self.p} > {second_obj.p}')\n",
    "    "
   ]
  },
  {
   "cell_type": "code",
   "execution_count": 18,
   "id": "e06d6738",
   "metadata": {},
   "outputs": [
    {
     "name": "stdout",
     "output_type": "stream",
     "text": [
      "2 > 1\n"
     ]
    }
   ],
   "source": [
    "p1 = Point(2)\n",
    "p2 = Point(1)\n",
    "p1 < p2"
   ]
  },
  {
   "cell_type": "code",
   "execution_count": null,
   "id": "a6effdc8",
   "metadata": {},
   "outputs": [],
   "source": []
  }
 ],
 "metadata": {
  "kernelspec": {
   "display_name": "Python 3 (ipykernel)",
   "language": "python",
   "name": "python3"
  },
  "language_info": {
   "codemirror_mode": {
    "name": "ipython",
    "version": 3
   },
   "file_extension": ".py",
   "mimetype": "text/x-python",
   "name": "python",
   "nbconvert_exporter": "python",
   "pygments_lexer": "ipython3",
   "version": "3.10.11"
  }
 },
 "nbformat": 4,
 "nbformat_minor": 5
}

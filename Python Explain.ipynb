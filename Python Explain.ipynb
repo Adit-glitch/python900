{
 "cells": [
  {
   "cell_type": "markdown",
   "id": "3aeb486b",
   "metadata": {},
   "source": [
    "# Python is a dynamic type language(check datatype in run time)\n",
    "# Static type language(pre check data type)\n",
    "# High level object oriented language|\n",
    "# Python is interpreted (run code line by line)\n",
    "\n",
    "# Python is case sensitive language(upper case and lower case syntax are different)\n",
    "# Python code should be written in snake_case(clean code - pep 8)"
   ]
  },
  {
   "cell_type": "markdown",
   "id": "ea7858b9",
   "metadata": {},
   "source": [
    "# variable name cannot include space\n",
    "name = \"Ram\"\n",
    "\n",
    "first name = \"Ram\" it will return error\n"
   ]
  },
  {
   "cell_type": "markdown",
   "id": "12b6c82f",
   "metadata": {},
   "source": [
    "# Python keywords cannot be variable names\n",
    "* Keywords are the reserved words in Python\n",
    "* We cannot use a keyword as a variable name, function name or any other identifier\n",
    "* They are used to define the syntax and struture of the Python language, In Python, keywords are case sensitive"
   ]
  },
  {
   "cell_type": "code",
   "execution_count": 1,
   "id": "fada611f",
   "metadata": {},
   "outputs": [
    {
     "name": "stdout",
     "output_type": "stream",
     "text": [
      "\n",
      "Here is a list of the Python keywords.  Enter any keyword to get more help.\n",
      "\n",
      "False               class               from                or\n",
      "None                continue            global              pass\n",
      "True                def                 if                  raise\n",
      "and                 del                 import              return\n",
      "as                  elif                in                  try\n",
      "assert              else                is                  while\n",
      "async               except              lambda              with\n",
      "await               finally             nonlocal            yield\n",
      "break               for                 not                 \n",
      "\n"
     ]
    }
   ],
   "source": [
    "# keyboards in Python \n",
    "help('keywords')"
   ]
  },
  {
   "cell_type": "code",
   "execution_count": 4,
   "id": "97d8db78",
   "metadata": {},
   "outputs": [
    {
     "name": "stdout",
     "output_type": "stream",
     "text": [
      "Lowercase batta = Chini\n",
      "Uppercase Batta = Churi\n"
     ]
    }
   ],
   "source": [
    "# Formating in Python\n",
    "batta = 'Chini'\n",
    "Batta = 'Churi'\n",
    "print (f'Lowercase batta = {batta}') # f stand for formating\n",
    "print (f'Uppercase Batta = {Batta}') # f stand for formating"
   ]
  },
  {
   "cell_type": "code",
   "execution_count": 5,
   "id": "e4599b85",
   "metadata": {},
   "outputs": [
    {
     "name": "stdout",
     "output_type": "stream",
     "text": [
      "a = and\n",
      "A = ant\n"
     ]
    }
   ],
   "source": [
    "a = 'and'\n",
    "A = 'ant'\n",
    "print (f'a = {a}')\n",
    "print (f'A = {A}')"
   ]
  },
  {
   "cell_type": "markdown",
   "id": "0e15e431",
   "metadata": {},
   "source": [
    "# Variables\n",
    "# We cannot use dash - in variable name\n",
    "# We cannot use special symbols line `!, @, #, $, %, etc.` in our identifier\n"
   ]
  },
  {
   "cell_type": "code",
   "execution_count": 6,
   "id": "7aefef3e",
   "metadata": {},
   "outputs": [
    {
     "ename": "SyntaxError",
     "evalue": "cannot assign to expression here. Maybe you meant '==' instead of '='? (1799071319.py, line 1)",
     "output_type": "error",
     "traceback": [
      "\u001b[1;36m  Cell \u001b[1;32mIn[6], line 1\u001b[1;36m\u001b[0m\n\u001b[1;33m    first-name = 'Bale'\u001b[0m\n\u001b[1;37m    ^\u001b[0m\n\u001b[1;31mSyntaxError\u001b[0m\u001b[1;31m:\u001b[0m cannot assign to expression here. Maybe you meant '==' instead of '='?\n"
     ]
    }
   ],
   "source": [
    "first-name = 'Bale'"
   ]
  },
  {
   "cell_type": "code",
   "execution_count": 7,
   "id": "802a3d11",
   "metadata": {},
   "outputs": [],
   "source": [
    "# Allowed\n",
    "firstName = 'Bale'"
   ]
  },
  {
   "cell_type": "code",
   "execution_count": 8,
   "id": "b4f8e777",
   "metadata": {},
   "outputs": [
    {
     "ename": "SyntaxError",
     "evalue": "invalid decimal literal (592678708.py, line 4)",
     "output_type": "error",
     "traceback": [
      "\u001b[1;36m  Cell \u001b[1;32mIn[8], line 4\u001b[1;36m\u001b[0m\n\u001b[1;33m    9name = 'Ram' # error\u001b[0m\n\u001b[1;37m    ^\u001b[0m\n\u001b[1;31mSyntaxError\u001b[0m\u001b[1;31m:\u001b[0m invalid decimal literal\n"
     ]
    }
   ],
   "source": [
    "# We can use underscore in variable names\n",
    "first_name = 'Ram'\n",
    "# Digit cannot be the first letter of variable\n",
    "9name = 'Ram' # error \n",
    "name9 = 'Ram' # Allowed"
   ]
  },
  {
   "cell_type": "code",
   "execution_count": null,
   "id": "f276c27c",
   "metadata": {},
   "outputs": [],
   "source": []
  }
 ],
 "metadata": {
  "kernelspec": {
   "display_name": "Python 3 (ipykernel)",
   "language": "python",
   "name": "python3"
  },
  "language_info": {
   "codemirror_mode": {
    "name": "ipython",
    "version": 3
   },
   "file_extension": ".py",
   "mimetype": "text/x-python",
   "name": "python",
   "nbconvert_exporter": "python",
   "pygments_lexer": "ipython3",
   "version": "3.10.11"
  }
 },
 "nbformat": 4,
 "nbformat_minor": 5
}

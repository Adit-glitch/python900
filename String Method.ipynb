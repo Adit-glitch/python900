{
 "cells": [
  {
   "cell_type": "markdown",
   "id": "529991ff",
   "metadata": {},
   "source": [
    "# String is immutable data type\n",
    "* same memory location ma gayara value edit garnu mildaina"
   ]
  },
  {
   "cell_type": "code",
   "execution_count": null,
   "id": "d30ba4b9",
   "metadata": {},
   "outputs": [],
   "source": [
    "name = 'R$m'"
   ]
  },
  {
   "cell_type": "code",
   "execution_count": 1,
   "id": "929e843a",
   "metadata": {},
   "outputs": [
    {
     "ename": "NameError",
     "evalue": "name 'name' is not defined",
     "output_type": "error",
     "traceback": [
      "\u001b[1;31m---------------------------------------------------------------------------\u001b[0m",
      "\u001b[1;31mNameError\u001b[0m                                 Traceback (most recent call last)",
      "Cell \u001b[1;32mIn[1], line 1\u001b[0m\n\u001b[1;32m----> 1\u001b[0m \u001b[43mname\u001b[49m[\u001b[38;5;241m1\u001b[39m] \u001b[38;5;241m=\u001b[39m \u001b[38;5;124m'\u001b[39m\u001b[38;5;124ma\u001b[39m\u001b[38;5;124m'\u001b[39m\n",
      "\u001b[1;31mNameError\u001b[0m: name 'name' is not defined"
     ]
    }
   ],
   "source": [
    "name[1] = 'a' # string is immutable data type (same memory location ma gayara value edit garnu mildaina)"
   ]
  },
  {
   "cell_type": "code",
   "execution_count": 3,
   "id": "6d5eac34",
   "metadata": {},
   "outputs": [
    {
     "name": "stdout",
     "output_type": "stream",
     "text": [
      "1523161529136\n",
      "1523161518320\n",
      "Ram\n"
     ]
    }
   ],
   "source": [
    "name = 'R$m'\n",
    "print (id(name))\n",
    "name = name.replace('$', 'a')\n",
    "print (id(name))\n",
    "print (name)"
   ]
  },
  {
   "cell_type": "code",
   "execution_count": 4,
   "id": "606b8738",
   "metadata": {},
   "outputs": [
    {
     "data": {
      "text/plain": [
       "'hello world'"
      ]
     },
     "execution_count": 4,
     "metadata": {},
     "output_type": "execute_result"
    }
   ],
   "source": [
    "# upper case or lowercase\n",
    "S = 'Hello World'\n",
    "S.lower()\n"
   ]
  },
  {
   "cell_type": "code",
   "execution_count": 5,
   "id": "c1fbb004",
   "metadata": {},
   "outputs": [
    {
     "data": {
      "text/plain": [
       "'HELLO WORLD'"
      ]
     },
     "execution_count": 5,
     "metadata": {},
     "output_type": "execute_result"
    }
   ],
   "source": [
    "S.upper()"
   ]
  },
  {
   "cell_type": "code",
   "execution_count": 7,
   "id": "cba17fd6",
   "metadata": {},
   "outputs": [
    {
     "data": {
      "text/plain": [
       "\"Openherimer'S Atom Bomb.\""
      ]
     },
     "execution_count": 7,
     "metadata": {},
     "output_type": "execute_result"
    }
   ],
   "source": [
    "theme = \"openherimer's atom bomb.\"\n",
    "theme.title()"
   ]
  },
  {
   "cell_type": "markdown",
   "id": "ad56dc01",
   "metadata": {},
   "source": [
    "# .strip(), lstrip(), rstrip()"
   ]
  },
  {
   "cell_type": "code",
   "execution_count": 8,
   "id": "2bac19ef",
   "metadata": {},
   "outputs": [
    {
     "data": {
      "text/plain": [
       "\"openheimer's atom bomb\""
      ]
     },
     "execution_count": 8,
     "metadata": {},
     "output_type": "execute_result"
    }
   ],
   "source": [
    "theme = \"   openheimer's atom bomb   \"\n",
    "theme.strip()"
   ]
  },
  {
   "cell_type": "code",
   "execution_count": 9,
   "id": "09153b17",
   "metadata": {},
   "outputs": [
    {
     "data": {
      "text/plain": [
       "\"openheimer's atom bomb   \""
      ]
     },
     "execution_count": 9,
     "metadata": {},
     "output_type": "execute_result"
    }
   ],
   "source": [
    "theme.lstrip()\n"
   ]
  },
  {
   "cell_type": "code",
   "execution_count": 11,
   "id": "c459fc8d",
   "metadata": {},
   "outputs": [
    {
     "data": {
      "text/plain": [
       "\"   openheimer's atom bomb\""
      ]
     },
     "execution_count": 11,
     "metadata": {},
     "output_type": "execute_result"
    }
   ],
   "source": [
    "theme.rstrip()"
   ]
  },
  {
   "cell_type": "markdown",
   "id": "b4c6bdf3",
   "metadata": {},
   "source": [
    "# .split()"
   ]
  },
  {
   "cell_type": "code",
   "execution_count": 13,
   "id": "1f7b7dbb",
   "metadata": {},
   "outputs": [
    {
     "name": "stdout",
     "output_type": "stream",
     "text": [
      "['openheimer', 'the', 'father', 'of', 'atom', 'bomb', 'talks', 'about', 'Bhagwat', 'Gita.']\n"
     ]
    }
   ],
   "source": [
    "theme = 'openheimer the father of atom bomb talks about Bhagwat Gita.'\n",
    "words = theme.split(' ')\n",
    "print (words)"
   ]
  },
  {
   "cell_type": "code",
   "execution_count": 14,
   "id": "97ec8b09",
   "metadata": {},
   "outputs": [
    {
     "data": {
      "text/plain": [
       "list"
      ]
     },
     "execution_count": 14,
     "metadata": {},
     "output_type": "execute_result"
    }
   ],
   "source": [
    "type(words)"
   ]
  },
  {
   "cell_type": "code",
   "execution_count": 16,
   "id": "f1b1f50f",
   "metadata": {},
   "outputs": [
    {
     "name": "stdout",
     "output_type": "stream",
     "text": [
      "a an , the are articles\n"
     ]
    }
   ],
   "source": [
    "words = ['a', 'an', ',', 'the', 'are', 'articles']\n",
    "string = ' '.join(words)\n",
    "print(string)"
   ]
  },
  {
   "cell_type": "code",
   "execution_count": 17,
   "id": "08f0e015",
   "metadata": {},
   "outputs": [
    {
     "data": {
      "text/plain": [
       "str"
      ]
     },
     "execution_count": 17,
     "metadata": {},
     "output_type": "execute_result"
    }
   ],
   "source": [
    "type(string)"
   ]
  },
  {
   "cell_type": "code",
   "execution_count": 18,
   "id": "5142d43e",
   "metadata": {},
   "outputs": [
    {
     "name": "stdout",
     "output_type": "stream",
     "text": [
      "['Raja', 'ko', 'rani', 'say', 'pyar', 'ho', 'gaya']\n"
     ]
    }
   ],
   "source": [
    "words = 'Raja ko rani say pyar ho gaya'\n",
    "spliting = words.split(\" \")\n",
    "print (spliting)"
   ]
  },
  {
   "cell_type": "code",
   "execution_count": 19,
   "id": "95bf762f",
   "metadata": {},
   "outputs": [
    {
     "name": "stdout",
     "output_type": "stream",
     "text": [
      "Raja ko rani say pyar ho gaya\n"
     ]
    }
   ],
   "source": [
    "joining = ' '.join(spliting)\n",
    "print (joining)"
   ]
  },
  {
   "cell_type": "code",
   "execution_count": null,
   "id": "8b121bfc",
   "metadata": {},
   "outputs": [],
   "source": []
  }
 ],
 "metadata": {
  "kernelspec": {
   "display_name": "Python 3 (ipykernel)",
   "language": "python",
   "name": "python3"
  },
  "language_info": {
   "codemirror_mode": {
    "name": "ipython",
    "version": 3
   },
   "file_extension": ".py",
   "mimetype": "text/x-python",
   "name": "python",
   "nbconvert_exporter": "python",
   "pygments_lexer": "ipython3",
   "version": "3.10.11"
  }
 },
 "nbformat": 4,
 "nbformat_minor": 5
}

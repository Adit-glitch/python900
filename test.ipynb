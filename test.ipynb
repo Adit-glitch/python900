{
 "cells": [
  {
   "cell_type": "code",
   "execution_count": 4,
   "id": "a37c2d7a",
   "metadata": {},
   "outputs": [],
   "source": [
    "dict = {\n",
    "    'a' : 'apple',\n",
    "    'b' : 'ball',\n",
    "    'c' : 'cat',\n",
    "    'd' : 'dog'\n",
    "}"
   ]
  },
  {
   "cell_type": "code",
   "execution_count": 5,
   "id": "8f72e73d",
   "metadata": {},
   "outputs": [],
   "source": [
    "i, j = 1,2"
   ]
  },
  {
   "cell_type": "code",
   "execution_count": 6,
   "id": "9eb4a9ca",
   "metadata": {},
   "outputs": [],
   "source": [
    "temp = list(dict)"
   ]
  },
  {
   "cell_type": "code",
   "execution_count": 7,
   "id": "fa01035c",
   "metadata": {},
   "outputs": [],
   "source": [
    "temp[1], temp[2] = j, i"
   ]
  },
  {
   "cell_type": "code",
   "execution_count": 9,
   "id": "5f0fae34",
   "metadata": {},
   "outputs": [
    {
     "data": {
      "text/plain": [
       "['a', 2, 1, 'd']"
      ]
     },
     "execution_count": 9,
     "metadata": {},
     "output_type": "execute_result"
    }
   ],
   "source": [
    "temp"
   ]
  },
  {
   "cell_type": "code",
   "execution_count": null,
   "id": "86a5e392",
   "metadata": {},
   "outputs": [],
   "source": []
  }
 ],
 "metadata": {
  "kernelspec": {
   "display_name": "Python 3 (ipykernel)",
   "language": "python",
   "name": "python3"
  },
  "language_info": {
   "codemirror_mode": {
    "name": "ipython",
    "version": 3
   },
   "file_extension": ".py",
   "mimetype": "text/x-python",
   "name": "python",
   "nbconvert_exporter": "python",
   "pygments_lexer": "ipython3",
   "version": "3.10.11"
  }
 },
 "nbformat": 4,
 "nbformat_minor": 5
}

{
 "cells": [
  {
   "cell_type": "code",
   "execution_count": 1,
   "id": "93783e96",
   "metadata": {},
   "outputs": [
    {
     "name": "stdout",
     "output_type": "stream",
     "text": [
      "9\n"
     ]
    }
   ],
   "source": [
    "a = 4\n",
    "b = 5\n",
    "c = a + b\n",
    "print(c)"
   ]
  },
  {
   "cell_type": "code",
   "execution_count": 2,
   "id": "0f50a80e",
   "metadata": {},
   "outputs": [],
   "source": [
    "def addition(a, b): # a, b are arguments or parameters to the function.\n",
    "    return a + b\n",
    "    "
   ]
  },
  {
   "cell_type": "code",
   "execution_count": 3,
   "id": "02a4c783",
   "metadata": {},
   "outputs": [
    {
     "data": {
      "text/plain": [
       "7"
      ]
     },
     "execution_count": 3,
     "metadata": {},
     "output_type": "execute_result"
    }
   ],
   "source": [
    "addition(3, 4)"
   ]
  },
  {
   "cell_type": "code",
   "execution_count": 4,
   "id": "2b596010",
   "metadata": {},
   "outputs": [
    {
     "data": {
      "text/plain": [
       "51"
      ]
     },
     "execution_count": 4,
     "metadata": {},
     "output_type": "execute_result"
    }
   ],
   "source": [
    "addition(a = 45, b = 6)"
   ]
  },
  {
   "cell_type": "code",
   "execution_count": 5,
   "id": "b68f1d5c",
   "metadata": {},
   "outputs": [],
   "source": [
    "def multiply(a, b, c):\n",
    "    print (a * b * c)\n",
    "    "
   ]
  },
  {
   "cell_type": "code",
   "execution_count": 6,
   "id": "176ed4ba",
   "metadata": {},
   "outputs": [
    {
     "name": "stdout",
     "output_type": "stream",
     "text": [
      "32\n"
     ]
    }
   ],
   "source": [
    "multiply(a = 2, b = 4, c = 4)"
   ]
  },
  {
   "cell_type": "markdown",
   "id": "eb2f1423",
   "metadata": {},
   "source": [
    "# example"
   ]
  },
  {
   "cell_type": "code",
   "execution_count": 10,
   "id": "3f66ecca",
   "metadata": {},
   "outputs": [],
   "source": [
    "def square(x):\n",
    "    return(x**2)"
   ]
  },
  {
   "cell_type": "code",
   "execution_count": 11,
   "id": "06768723",
   "metadata": {},
   "outputs": [],
   "source": [
    "def cube(x):\n",
    "    return(x**3)"
   ]
  },
  {
   "cell_type": "code",
   "execution_count": 14,
   "id": "32b950ba",
   "metadata": {},
   "outputs": [
    {
     "name": "stdout",
     "output_type": "stream",
     "text": [
      "12\n"
     ]
    }
   ],
   "source": [
    "num = 2\n",
    "sq = square(x = num)\n",
    "cu = cube(x = num)\n",
    "print(sq + cu)#"
   ]
  },
  {
   "cell_type": "markdown",
   "id": "aa633930",
   "metadata": {},
   "source": [
    "# syntax\n",
    "   ```python\n",
    "def function name(arguments, arguments, ..., arguments):\n",
    "    #function body/logic\n",
    "    return Expression\n",
    "```"
   ]
  },
  {
   "cell_type": "code",
   "execution_count": 19,
   "id": "ed1e7a2f",
   "metadata": {},
   "outputs": [],
   "source": [
    "import math\n",
    "def calculate_hcf_lcm(x, y):\n",
    "    hcf = math.gcd(x, y)\n",
    "    lcm = math.lcm(x, y)\n",
    "    return hcf, lcm\n"
   ]
  },
  {
   "cell_type": "code",
   "execution_count": 21,
   "id": "55b79b0f",
   "metadata": {},
   "outputs": [],
   "source": [
    "num1 = 5\n",
    "num2 = 15\n",
    "hcf, lcm = calculate_hcf_lcm(x = num1, y = num2)"
   ]
  },
  {
   "cell_type": "code",
   "execution_count": 22,
   "id": "689f25c7",
   "metadata": {},
   "outputs": [
    {
     "data": {
      "text/plain": [
       "5"
      ]
     },
     "execution_count": 22,
     "metadata": {},
     "output_type": "execute_result"
    }
   ],
   "source": [
    "hcf"
   ]
  },
  {
   "cell_type": "code",
   "execution_count": 24,
   "id": "d57e6a22",
   "metadata": {},
   "outputs": [
    {
     "data": {
      "text/plain": [
       "15"
      ]
     },
     "execution_count": 24,
     "metadata": {},
     "output_type": "execute_result"
    }
   ],
   "source": [
    "lcm\n"
   ]
  },
  {
   "cell_type": "code",
   "execution_count": null,
   "id": "fbb8a966",
   "metadata": {},
   "outputs": [],
   "source": []
  }
 ],
 "metadata": {
  "kernelspec": {
   "display_name": "Python 3 (ipykernel)",
   "language": "python",
   "name": "python3"
  },
  "language_info": {
   "codemirror_mode": {
    "name": "ipython",
    "version": 3
   },
   "file_extension": ".py",
   "mimetype": "text/x-python",
   "name": "python",
   "nbconvert_exporter": "python",
   "pygments_lexer": "ipython3",
   "version": "3.10.11"
  }
 },
 "nbformat": 4,
 "nbformat_minor": 5
}

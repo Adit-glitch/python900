{
 "cells": [
  {
   "cell_type": "markdown",
   "id": "615bc1eb",
   "metadata": {},
   "source": [
    "# creating empty class : class PascalCase ma Lekhne"
   ]
  },
  {
   "cell_type": "code",
   "execution_count": 1,
   "id": "5dcc816d",
   "metadata": {},
   "outputs": [],
   "source": [
    "class Mammal:\n",
    "    pass"
   ]
  },
  {
   "cell_type": "code",
   "execution_count": 2,
   "id": "73210c8a",
   "metadata": {},
   "outputs": [],
   "source": [
    "# Creating object from a class"
   ]
  },
  {
   "cell_type": "code",
   "execution_count": 3,
   "id": "2fb2c189",
   "metadata": {},
   "outputs": [],
   "source": [
    "human = Mammal()"
   ]
  },
  {
   "cell_type": "code",
   "execution_count": 4,
   "id": "e19f2057",
   "metadata": {},
   "outputs": [
    {
     "data": {
      "text/plain": [
       "__main__.Mammal"
      ]
     },
     "execution_count": 4,
     "metadata": {},
     "output_type": "execute_result"
    }
   ],
   "source": [
    "type(human)"
   ]
  },
  {
   "cell_type": "code",
   "execution_count": 5,
   "id": "3422d328",
   "metadata": {},
   "outputs": [],
   "source": [
    "# main is entry point of python program"
   ]
  },
  {
   "cell_type": "code",
   "execution_count": 6,
   "id": "6ee84617",
   "metadata": {},
   "outputs": [],
   "source": [
    "class Mammal:\n",
    "    pass"
   ]
  },
  {
   "cell_type": "code",
   "execution_count": 7,
   "id": "0bd72aac",
   "metadata": {},
   "outputs": [
    {
     "name": "stdout",
     "output_type": "stream",
     "text": [
      "<class '__main__.Mammal'>\n"
     ]
    }
   ],
   "source": [
    "if __name__ == '__main__': #module import garda yo muni ko code run hudaina\n",
    "    human = Mammal()\n",
    "    print(type(human))"
   ]
  },
  {
   "cell_type": "code",
   "execution_count": 8,
   "id": "b3d14e00",
   "metadata": {},
   "outputs": [
    {
     "data": {
      "text/plain": [
       "'__main__'"
      ]
     },
     "execution_count": 8,
     "metadata": {},
     "output_type": "execute_result"
    }
   ],
   "source": [
    "__name__"
   ]
  },
  {
   "cell_type": "code",
   "execution_count": null,
   "id": "65167f86",
   "metadata": {},
   "outputs": [],
   "source": []
  }
 ],
 "metadata": {
  "kernelspec": {
   "display_name": "Python 3 (ipykernel)",
   "language": "python",
   "name": "python3"
  },
  "language_info": {
   "codemirror_mode": {
    "name": "ipython",
    "version": 3
   },
   "file_extension": ".py",
   "mimetype": "text/x-python",
   "name": "python",
   "nbconvert_exporter": "python",
   "pygments_lexer": "ipython3",
   "version": "3.10.11"
  }
 },
 "nbformat": 4,
 "nbformat_minor": 5
}

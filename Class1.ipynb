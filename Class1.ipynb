{
 "cells": [
  {
   "cell_type": "markdown",
   "id": "a4d6dfdc",
   "metadata": {},
   "source": [
    "# Arithmetic Operation\n",
    "* Addition(+)\n",
    "* Subtraction(-)\n",
    "* Multiplication(*)\n",
    "* Division(/)\n",
    "* Modulos(%)\n",
    "* Exponentiation(**)\n",
    "* Floor Division(//)"
   ]
  },
  {
   "cell_type": "code",
   "execution_count": 6,
   "id": "d0d6a9c1",
   "metadata": {},
   "outputs": [
    {
     "name": "stdout",
     "output_type": "stream",
     "text": [
      "50\n"
     ]
    }
   ],
   "source": [
    "# Addition\n",
    "a = 20\n",
    "b = 30\n",
    "c = a + b\n",
    "print (c)"
   ]
  },
  {
   "cell_type": "code",
   "execution_count": 7,
   "id": "4930e5ae",
   "metadata": {},
   "outputs": [
    {
     "name": "stdout",
     "output_type": "stream",
     "text": [
      "-1\n"
     ]
    }
   ],
   "source": [
    "# Subtraction\n",
    "a = 5\n",
    "b = 6\n",
    "c = a - b\n",
    "print (c)"
   ]
  },
  {
   "cell_type": "code",
   "execution_count": 8,
   "id": "ea9ba5bc",
   "metadata": {},
   "outputs": [
    {
     "name": "stdout",
     "output_type": "stream",
     "text": [
      "20\n"
     ]
    }
   ],
   "source": [
    "# Multiplication\n",
    "a = 10\n",
    "b = 2\n",
    "c = a * b\n",
    "print (c)\n"
   ]
  },
  {
   "cell_type": "code",
   "execution_count": 4,
   "id": "8b30b9f7",
   "metadata": {},
   "outputs": [
    {
     "name": "stdout",
     "output_type": "stream",
     "text": [
      "4.0\n"
     ]
    }
   ],
   "source": [
    "# Division\n",
    "a = 20\n",
    "b = 5\n",
    "c = a / b\n",
    "print (c)"
   ]
  },
  {
   "cell_type": "code",
   "execution_count": 6,
   "id": "b9181110",
   "metadata": {},
   "outputs": [
    {
     "name": "stdout",
     "output_type": "stream",
     "text": [
      "1\n"
     ]
    }
   ],
   "source": [
    "# Modulus\n",
    "a = 99\n",
    "b = 2\n",
    "c = a % b\n",
    "print (c) # return the remainder"
   ]
  },
  {
   "cell_type": "code",
   "execution_count": 3,
   "id": "90c73142",
   "metadata": {},
   "outputs": [
    {
     "name": "stdout",
     "output_type": "stream",
     "text": [
      "7\n"
     ]
    }
   ],
   "source": [
    "# Floor Division\n",
    "a = 15\n",
    "b = 2\n",
    "print (a//b) # floor division return the integer without . values"
   ]
  },
  {
   "cell_type": "code",
   "execution_count": 5,
   "id": "97e1b8ff",
   "metadata": {},
   "outputs": [
    {
     "name": "stdout",
     "output_type": "stream",
     "text": [
      "8\n"
     ]
    }
   ],
   "source": [
    "# exponentiation\n",
    "a = 2\n",
    "b = 3\n",
    "print (a**b) # a ko power b"
   ]
  },
  {
   "cell_type": "code",
   "execution_count": null,
   "id": "ad9e6026",
   "metadata": {},
   "outputs": [],
   "source": []
  }
 ],
 "metadata": {
  "kernelspec": {
   "display_name": "Python 3 (ipykernel)",
   "language": "python",
   "name": "python3"
  },
  "language_info": {
   "codemirror_mode": {
    "name": "ipython",
    "version": 3
   },
   "file_extension": ".py",
   "mimetype": "text/x-python",
   "name": "python",
   "nbconvert_exporter": "python",
   "pygments_lexer": "ipython3",
   "version": "3.10.11"
  }
 },
 "nbformat": 4,
 "nbformat_minor": 5
}

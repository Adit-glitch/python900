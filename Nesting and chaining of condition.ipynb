{
 "cells": [
  {
   "cell_type": "code",
   "execution_count": 3,
   "id": "2e270d72",
   "metadata": {},
   "outputs": [
    {
     "name": "stdout",
     "output_type": "stream",
     "text": [
      "Enter a number: 33\n",
      "positive\n"
     ]
    }
   ],
   "source": [
    "# Nesting of condition\n",
    "num = int(input('Enter a number: '))\n",
    "if num < 0:\n",
    "    print ('negative')\n",
    "else:\n",
    "    if num == 0:\n",
    "        print ('neutral')\n",
    "    else:\n",
    "        print ('positive')\n",
    "\n"
   ]
  },
  {
   "cell_type": "code",
   "execution_count": 6,
   "id": "4d7b88da",
   "metadata": {},
   "outputs": [
    {
     "name": "stdout",
     "output_type": "stream",
     "text": [
      "Enter a number: 33\n",
      "positive\n"
     ]
    }
   ],
   "source": [
    "# chaining of condition\n",
    "num = int(input('Enter a number: '))\n",
    "if num < 0:\n",
    "    print('negative')\n",
    "elif num == 0:\n",
    "    print('neutral')\n",
    "else:\n",
    "    print('positive')"
   ]
  },
  {
   "cell_type": "code",
   "execution_count": null,
   "id": "1b50924e",
   "metadata": {},
   "outputs": [],
   "source": [
    "# Make a codition with division,"
   ]
  }
 ],
 "metadata": {
  "kernelspec": {
   "display_name": "Python 3 (ipykernel)",
   "language": "python",
   "name": "python3"
  },
  "language_info": {
   "codemirror_mode": {
    "name": "ipython",
    "version": 3
   },
   "file_extension": ".py",
   "mimetype": "text/x-python",
   "name": "python",
   "nbconvert_exporter": "python",
   "pygments_lexer": "ipython3",
   "version": "3.10.11"
  }
 },
 "nbformat": 4,
 "nbformat_minor": 5
}

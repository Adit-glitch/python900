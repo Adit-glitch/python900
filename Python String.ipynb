{
 "cells": [
  {
   "cell_type": "markdown",
   "id": "2bc404f6",
   "metadata": {},
   "source": [
    "# String\n",
    "# Single quote and double quote are same\n"
   ]
  },
  {
   "cell_type": "code",
   "execution_count": 1,
   "id": "c016cd8b",
   "metadata": {},
   "outputs": [
    {
     "data": {
      "text/plain": [
       "str"
      ]
     },
     "execution_count": 1,
     "metadata": {},
     "output_type": "execute_result"
    }
   ],
   "source": [
    "txt = 'hello'\n",
    "type(txt)"
   ]
  },
  {
   "cell_type": "code",
   "execution_count": 3,
   "id": "31727923",
   "metadata": {},
   "outputs": [
    {
     "data": {
      "text/plain": [
       "True"
      ]
     },
     "execution_count": 3,
     "metadata": {},
     "output_type": "execute_result"
    }
   ],
   "source": [
    "txt1 = 'hello'\n",
    "txt2 = \"hello\"\n",
    "txt1 == txt2\n"
   ]
  },
  {
   "cell_type": "code",
   "execution_count": 5,
   "id": "9a17c5fa",
   "metadata": {},
   "outputs": [
    {
     "ename": "AssertionError",
     "evalue": "",
     "output_type": "error",
     "traceback": [
      "\u001b[1;31m---------------------------------------------------------------------------\u001b[0m",
      "\u001b[1;31mAssertionError\u001b[0m                            Traceback (most recent call last)",
      "Cell \u001b[1;32mIn[5], line 4\u001b[0m\n\u001b[0;32m      2\u001b[0m txt1 \u001b[38;5;241m=\u001b[39m \u001b[38;5;124m'\u001b[39m\u001b[38;5;124mhello\u001b[39m\u001b[38;5;124m'\u001b[39m\n\u001b[0;32m      3\u001b[0m txt2 \u001b[38;5;241m=\u001b[39m \u001b[38;5;124m\"\u001b[39m\u001b[38;5;124mHello\u001b[39m\u001b[38;5;124m\"\u001b[39m\n\u001b[1;32m----> 4\u001b[0m \u001b[38;5;28;01massert\u001b[39;00m txt1 \u001b[38;5;241m==\u001b[39m txt2\n",
      "\u001b[1;31mAssertionError\u001b[0m: "
     ]
    }
   ],
   "source": [
    "# assert check if two variable are with given condition or not. If not equal it will return error.\n",
    "txt1 = 'hello'\n",
    "txt2 = \"Hello\"\n",
    "assert txt1 == txt2"
   ]
  },
  {
   "cell_type": "code",
   "execution_count": 8,
   "id": "8e30f6fb",
   "metadata": {},
   "outputs": [
    {
     "ename": "SyntaxError",
     "evalue": "unterminated string literal (detected at line 1) (336797634.py, line 1)",
     "output_type": "error",
     "traceback": [
      "\u001b[1;36m  Cell \u001b[1;32mIn[8], line 1\u001b[1;36m\u001b[0m\n\u001b[1;33m    kabita = \"\u001b[0m\n\u001b[1;37m             ^\u001b[0m\n\u001b[1;31mSyntaxError\u001b[0m\u001b[1;31m:\u001b[0m unterminated string literal (detected at line 1)\n"
     ]
    }
   ],
   "source": [
    "kabita = \"\n",
    "संसार रूपी सुख स्वर्गभित्र,\n",
    "रमें रमाएँ लिइ भित्र चित्र ।\n",
    "सारा भयो त्यो मरुभूभि तुल्य,\n",
    "रातै परेझैं अब बुझ्छु बल्ल ।\n",
    "रहेछ संसार निशा समान,\n",
    "आएन ज्यूँदै रहँदा नि ज्ञान ।\n",
    "आखीर श्रीकृष्ण रहेछ एक,\n",
    "न भक्ति भो, ज्ञान, नभो विवेक ।\""
   ]
  },
  {
   "cell_type": "markdown",
   "id": "11c5e284",
   "metadata": {},
   "source": [
    "# Multiline String use triple code ''' '''"
   ]
  },
  {
   "cell_type": "code",
   "execution_count": 10,
   "id": "f3acb470",
   "metadata": {},
   "outputs": [
    {
     "name": "stdout",
     "output_type": "stream",
     "text": [
      "\n",
      "संसार रूपी सुख स्वर्गभित्र,\n",
      "रमें रमाएँ लिइ भित्र चित्र ।\n",
      "सारा भयो त्यो मरुभूभि तुल्य,\n",
      "रातै परेझैं अब बुझ्छु बल्ल ।\n",
      "रहेछ संसार निशा समान,\n",
      "आएन ज्यूँदै रहँदा नि ज्ञान ।\n",
      "आखीर श्रीकृष्ण रहेछ एक,\n",
      "न भक्ति भो, ज्ञान, नभो विवेक ।\n",
      "\n"
     ]
    }
   ],
   "source": [
    "# Multi line string\n",
    "kabita = '''\n",
    "संसार रूपी सुख स्वर्गभित्र,\n",
    "रमें रमाएँ लिइ भित्र चित्र ।\n",
    "सारा भयो त्यो मरुभूभि तुल्य,\n",
    "रातै परेझैं अब बुझ्छु बल्ल ।\n",
    "रहेछ संसार निशा समान,\n",
    "आएन ज्यूँदै रहँदा नि ज्ञान ।\n",
    "आखीर श्रीकृष्ण रहेछ एक,\n",
    "न भक्ति भो, ज्ञान, नभो विवेक ।\n",
    "'''\n",
    "print (kabita)"
   ]
  },
  {
   "cell_type": "markdown",
   "id": "6b7b7bb3",
   "metadata": {},
   "source": [
    "# Indexing and Slicing\n",
    "# indexing always start from 0"
   ]
  },
  {
   "cell_type": "code",
   "execution_count": 17,
   "id": "333266e0",
   "metadata": {},
   "outputs": [
    {
     "data": {
      "text/plain": [
       "'o w'"
      ]
     },
     "execution_count": 17,
     "metadata": {},
     "output_type": "execute_result"
    }
   ],
   "source": [
    "s = 'hello world'\n",
    "s[0],s[1],s[2],s[3],s[4],s[5],s[6],s[7],s[8],s[9],s[10] # index start from 0\n",
    "\n",
    "# Length of variable\n",
    "len(s)\n",
    "\n",
    "#\n",
    "s[6:9] # index 6,7,8\n",
    "#\n",
    "s[4:7] # indrc 4,5,6\n"
   ]
  },
  {
   "cell_type": "code",
   "execution_count": 18,
   "id": "425e2541",
   "metadata": {},
   "outputs": [
    {
     "data": {
      "text/plain": [
       "'pd.'"
      ]
     },
     "execution_count": 18,
     "metadata": {},
     "output_type": "execute_result"
    }
   ],
   "source": [
    "# Slicing\n",
    "txt = 'Laxmi pd. Devkota'\n",
    "txt[6:9]\n"
   ]
  },
  {
   "cell_type": "code",
   "execution_count": 19,
   "id": "40af652e",
   "metadata": {},
   "outputs": [
    {
     "data": {
      "text/plain": [
       "'Laxmi'"
      ]
     },
     "execution_count": 19,
     "metadata": {},
     "output_type": "execute_result"
    }
   ],
   "source": [
    "txt[:5] # starting will be 0 be default"
   ]
  },
  {
   "cell_type": "code",
   "execution_count": 20,
   "id": "c98dc192",
   "metadata": {},
   "outputs": [
    {
     "data": {
      "text/plain": [
       "'pd. Devkota'"
      ]
     },
     "execution_count": 20,
     "metadata": {},
     "output_type": "execute_result"
    }
   ],
   "source": [
    "txt[6:] # end will be number of len"
   ]
  },
  {
   "cell_type": "markdown",
   "id": "53fbf0c5",
   "metadata": {},
   "source": [
    "# Loop in Pyhon - for index in range(start, stop, step)\n",
    "``` python\n",
    "range(start, stop, step)\n",
    "```\n"
   ]
  },
  {
   "cell_type": "code",
   "execution_count": 25,
   "id": "d408c3ae",
   "metadata": {},
   "outputs": [
    {
     "name": "stdout",
     "output_type": "stream",
     "text": [
      "0\n",
      "1\n",
      "2\n",
      "3\n",
      "4\n"
     ]
    }
   ],
   "source": [
    "for index in range(0, 5, 1):\n",
    "    print (index)"
   ]
  },
  {
   "cell_type": "code",
   "execution_count": 24,
   "id": "670d8eca",
   "metadata": {},
   "outputs": [
    {
     "name": "stdout",
     "output_type": "stream",
     "text": [
      "0\n",
      "2\n",
      "4\n",
      "6\n",
      "8\n",
      "10\n",
      "12\n",
      "14\n"
     ]
    }
   ],
   "source": [
    "for index in range(0, 15, 2):\n",
    "    print (index)"
   ]
  },
  {
   "cell_type": "code",
   "execution_count": 26,
   "id": "c7349bae",
   "metadata": {},
   "outputs": [
    {
     "name": "stdout",
     "output_type": "stream",
     "text": [
      "50\n",
      "51\n",
      "52\n",
      "53\n",
      "54\n",
      "55\n",
      "56\n",
      "57\n",
      "58\n",
      "59\n"
     ]
    }
   ],
   "source": [
    "for index in range(50, 60, 1):\n",
    "    print (index)"
   ]
  },
  {
   "cell_type": "code",
   "execution_count": 30,
   "id": "5f63e2c5",
   "metadata": {},
   "outputs": [
    {
     "name": "stdout",
     "output_type": "stream",
     "text": [
      "index = 0, character = H\n",
      "index = 1, character = e\n",
      "index = 2, character = l\n",
      "index = 3, character = l\n",
      "index = 4, character = o\n",
      "index = 5, character =  \n",
      "index = 6, character = W\n",
      "index = 7, character = o\n",
      "index = 8, character = r\n",
      "index = 9, character = l\n",
      "index = 10, character = d\n"
     ]
    }
   ],
   "source": [
    "s = 'Hello World'\n",
    "for index in range(0, len(s), 1):\n",
    "    character = s[index]\n",
    "    print (f'index = {index}, character = {character}')"
   ]
  },
  {
   "cell_type": "code",
   "execution_count": 32,
   "id": "416ce2a7",
   "metadata": {},
   "outputs": [
    {
     "name": "stdout",
     "output_type": "stream",
     "text": [
      "index = 0, character = p\n",
      "index = 1, character = r\n",
      "index = 2, character = i\n",
      "index = 3, character = n\n",
      "index = 4, character = t\n",
      "index = 5, character =  \n",
      "index = 6, character = c\n",
      "index = 7, character = h\n",
      "index = 8, character = a\n",
      "index = 9, character = r\n",
      "index = 10, character = a\n",
      "index = 11, character = c\n",
      "index = 12, character = t\n",
      "index = 13, character = e\n",
      "index = 14, character = r\n",
      "index = 15, character =  \n",
      "index = 16, character = o\n",
      "index = 17, character = n\n",
      "index = 18, character = e\n",
      "index = 19, character =  \n",
      "index = 20, character = b\n",
      "index = 21, character = y\n",
      "index = 22, character =  \n",
      "index = 23, character = o\n",
      "index = 24, character = n\n",
      "index = 25, character = e\n"
     ]
    }
   ],
   "source": [
    "txt = 'print character one by one'\n",
    "for index in range(0, len(txt), 1):\n",
    "    char = txt[index]\n",
    "    print(f'index = {index}, character = {char}')"
   ]
  },
  {
   "cell_type": "code",
   "execution_count": 33,
   "id": "1fbbc308",
   "metadata": {},
   "outputs": [
    {
     "name": "stdout",
     "output_type": "stream",
     "text": [
      "index = 0, character = h\n",
      "index = 1, character = e\n",
      "index = 2, character = y\n",
      "index = 3, character = ,\n",
      "index = 4, character =  \n",
      "index = 5, character = g\n",
      "index = 6, character = o\n",
      "index = 7, character = o\n",
      "index = 8, character = d\n",
      "index = 9, character =  \n",
      "index = 10, character = m\n",
      "index = 11, character = o\n",
      "index = 12, character = r\n",
      "index = 13, character = n\n",
      "index = 14, character = i\n",
      "index = 15, character = n\n",
      "index = 16, character = g\n",
      "index = 17, character = .\n"
     ]
    }
   ],
   "source": [
    "msg = 'hey, good morning.'\n",
    "for index in range(0, len(msg), 1):\n",
    "    character = msg[index]\n",
    "    print(f'index = {index}, character = {character}')"
   ]
  },
  {
   "cell_type": "code",
   "execution_count": 40,
   "id": "1f149cdd",
   "metadata": {},
   "outputs": [
    {
     "name": "stdout",
     "output_type": "stream",
     "text": [
      "10\n",
      "9\n",
      "8\n",
      "7\n",
      "6\n",
      "5\n",
      "4\n",
      "3\n",
      "2\n",
      "1\n",
      "0\n"
     ]
    }
   ],
   "source": [
    "for index in range(10, -1, -1):\n",
    "    print (index)"
   ]
  },
  {
   "cell_type": "markdown",
   "id": "cb2233ac",
   "metadata": {},
   "source": [
    "# WAP to print vowels and consonant in given word\n",
    "S = \"aeyi\"\n",
    "Output:\n",
    "    vowel = a\n",
    "    vowel = e\n",
    "    consonant = y\n",
    "\n",
    "\n",
    "# WAP to count vowel and consonants on given string\n",
    "S = \"HELLO\"\n",
    "\n",
    "\n"
   ]
  },
  {
   "cell_type": "code",
   "execution_count": 5,
   "id": "a895a118",
   "metadata": {},
   "outputs": [
    {
     "name": "stdout",
     "output_type": "stream",
     "text": [
      "vowel = a\n",
      "vowel = e\n",
      "consonant = y\n",
      "vowel = i\n"
     ]
    }
   ],
   "source": [
    "# print vowels and consonant\n",
    "S = \"aeyi\"\n",
    "for index in range(0, len(S), 1):\n",
    "    char = S[index]\n",
    "    if char == \"a\" or char == 'e' or char == 'i' or char == 'o' or char == 'u':\n",
    "        print (f'vowel = {char}')\n",
    "    else:\n",
    "        print (f'consonant = {char}')\n",
    "    \n",
    "    \n",
    "    "
   ]
  },
  {
   "cell_type": "code",
   "execution_count": 7,
   "id": "d4b5368e",
   "metadata": {},
   "outputs": [
    {
     "name": "stdout",
     "output_type": "stream",
     "text": [
      "vowel count = 2, consonant count = 4\n"
     ]
    }
   ],
   "source": [
    "# Count vowel and consonant on given string\n",
    "S = 'Hello'\n",
    "S = S.lower()\n",
    "vowel_count = 0\n",
    "consonant_count = 0\n",
    "for index in range(0, len(S), 1):\n",
    "    char = S[index]\n",
    "    if char == 'a' or char == 'e' or char == 'i' or char == 'o' or char == 'u':\n",
    "        vowel_count += 1\n",
    "    else:\n",
    "        consonant_count += 1\n",
    "\n",
    "print (f'vowel count = {vowel_count}, consonant count = {consonant_count}')\n",
    "    \n",
    "    \n",
    "    \n",
    "    "
   ]
  },
  {
   "cell_type": "code",
   "execution_count": 8,
   "id": "882ed316",
   "metadata": {},
   "outputs": [],
   "source": [
    "S = 'hello world'\n",
    "for index in range(len(S)):\n",
    "    char = S[index]\n",
    "    if char == 'a' or char == 'e' or char == 'i' or char == 'o' or char == 'u':\n",
    "        vowel_count += 1\n",
    "    elif char == ' ':\n",
    "        continue # continue skip the loop\n",
    "    else:\n",
    "        consonant_count += 1\n",
    "\n"
   ]
  },
  {
   "cell_type": "code",
   "execution_count": 9,
   "id": "b9477ad9",
   "metadata": {},
   "outputs": [
    {
     "name": "stdout",
     "output_type": "stream",
     "text": [
      "0\n",
      "1\n",
      "3\n",
      "4\n"
     ]
    }
   ],
   "source": [
    "# continue skip the lopp\n",
    "for i in range(5):\n",
    "    if i == 2:\n",
    "        continue\n",
    "    print(i)"
   ]
  },
  {
   "cell_type": "code",
   "execution_count": 10,
   "id": "7c02eafe",
   "metadata": {},
   "outputs": [
    {
     "name": "stdout",
     "output_type": "stream",
     "text": [
      "0\n",
      "1\n"
     ]
    }
   ],
   "source": [
    "# break skip the loop\n",
    "for i in range(5):\n",
    "    if i == 2:\n",
    "        break\n",
    "    print(i)"
   ]
  },
  {
   "cell_type": "code",
   "execution_count": null,
   "id": "84f95c7f",
   "metadata": {},
   "outputs": [],
   "source": []
  }
 ],
 "metadata": {
  "kernelspec": {
   "display_name": "Python 3 (ipykernel)",
   "language": "python",
   "name": "python3"
  },
  "language_info": {
   "codemirror_mode": {
    "name": "ipython",
    "version": 3
   },
   "file_extension": ".py",
   "mimetype": "text/x-python",
   "name": "python",
   "nbconvert_exporter": "python",
   "pygments_lexer": "ipython3",
   "version": "3.10.11"
  }
 },
 "nbformat": 4,
 "nbformat_minor": 5
}

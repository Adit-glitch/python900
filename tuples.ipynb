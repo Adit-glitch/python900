{
 "cells": [
  {
   "cell_type": "markdown",
   "id": "138fde64",
   "metadata": {},
   "source": [
    "# tuples\n",
    "* immutable data type\n",
    "* ordered, allows duplicate, allow multiple data types\n",
    "* written inside () round brackets seperated by comma"
   ]
  },
  {
   "cell_type": "code",
   "execution_count": 1,
   "id": "039139c0",
   "metadata": {},
   "outputs": [],
   "source": [
    "cars = ('Mercedes', 'Bently', 'BMW', 'Audi', 'Tesla')"
   ]
  },
  {
   "cell_type": "code",
   "execution_count": 2,
   "id": "b6d96894",
   "metadata": {},
   "outputs": [
    {
     "data": {
      "text/plain": [
       "tuple"
      ]
     },
     "execution_count": 2,
     "metadata": {},
     "output_type": "execute_result"
    }
   ],
   "source": [
    "type(cars)"
   ]
  },
  {
   "cell_type": "code",
   "execution_count": 4,
   "id": "a08d0b2d",
   "metadata": {},
   "outputs": [
    {
     "data": {
      "text/plain": [
       "'Mercedes'"
      ]
     },
     "execution_count": 4,
     "metadata": {},
     "output_type": "execute_result"
    }
   ],
   "source": [
    "cars[0]"
   ]
  },
  {
   "cell_type": "code",
   "execution_count": 5,
   "id": "ce35d098",
   "metadata": {},
   "outputs": [
    {
     "data": {
      "text/plain": [
       "'Tesla'"
      ]
     },
     "execution_count": 5,
     "metadata": {},
     "output_type": "execute_result"
    }
   ],
   "source": [
    "cars[-1]"
   ]
  },
  {
   "cell_type": "code",
   "execution_count": 6,
   "id": "47ab985a",
   "metadata": {},
   "outputs": [
    {
     "data": {
      "text/plain": [
       "('BMW', 'Audi')"
      ]
     },
     "execution_count": 6,
     "metadata": {},
     "output_type": "execute_result"
    }
   ],
   "source": [
    "cars[2:4]"
   ]
  },
  {
   "cell_type": "code",
   "execution_count": 8,
   "id": "77886163",
   "metadata": {},
   "outputs": [
    {
     "data": {
      "text/plain": [
       "('Audi', 'Tesla')"
      ]
     },
     "execution_count": 8,
     "metadata": {},
     "output_type": "execute_result"
    }
   ],
   "source": [
    "cars[-2:]"
   ]
  },
  {
   "cell_type": "code",
   "execution_count": 9,
   "id": "2e9a9a1a",
   "metadata": {},
   "outputs": [
    {
     "ename": "TypeError",
     "evalue": "'tuple' object does not support item assignment",
     "output_type": "error",
     "traceback": [
      "\u001b[1;31m---------------------------------------------------------------------------\u001b[0m",
      "\u001b[1;31mTypeError\u001b[0m                                 Traceback (most recent call last)",
      "Cell \u001b[1;32mIn[9], line 1\u001b[0m\n\u001b[1;32m----> 1\u001b[0m \u001b[43mcars\u001b[49m\u001b[43m[\u001b[49m\u001b[38;5;241;43m4\u001b[39;49m\u001b[43m]\u001b[49m \u001b[38;5;241m=\u001b[39m \u001b[38;5;124m'\u001b[39m\u001b[38;5;124mlambo\u001b[39m\u001b[38;5;124m'\u001b[39m\n",
      "\u001b[1;31mTypeError\u001b[0m: 'tuple' object does not support item assignment"
     ]
    }
   ],
   "source": [
    "cars[4] = 'lambo' # mutable data type"
   ]
  },
  {
   "cell_type": "code",
   "execution_count": 10,
   "id": "66036b14",
   "metadata": {},
   "outputs": [
    {
     "data": {
      "text/plain": [
       "['Mercedes', 'Bently', 'BMW', 'Audi', 'Tesla']"
      ]
     },
     "execution_count": 10,
     "metadata": {},
     "output_type": "execute_result"
    }
   ],
   "source": [
    "cars = ('Mercedes', 'Bently', 'BMW', 'Audi', 'Tesla')\n",
    "# add one car at last\n",
    "cars = list(cars)\n",
    "cars"
   ]
  },
  {
   "cell_type": "code",
   "execution_count": 11,
   "id": "9535e86b",
   "metadata": {},
   "outputs": [],
   "source": [
    "cars.append('Tata')"
   ]
  },
  {
   "cell_type": "code",
   "execution_count": 12,
   "id": "b69e7d70",
   "metadata": {},
   "outputs": [],
   "source": [
    "cars = tuple(cars)"
   ]
  },
  {
   "cell_type": "code",
   "execution_count": 13,
   "id": "d95ee04d",
   "metadata": {},
   "outputs": [
    {
     "name": "stdout",
     "output_type": "stream",
     "text": [
      "('Mercedes', 'Bently', 'BMW', 'Audi', 'Tesla', 'Tata')\n"
     ]
    }
   ],
   "source": [
    "print(cars)"
   ]
  },
  {
   "cell_type": "code",
   "execution_count": 14,
   "id": "a1ad5dff",
   "metadata": {},
   "outputs": [
    {
     "name": "stdout",
     "output_type": "stream",
     "text": [
      "30\n"
     ]
    }
   ],
   "source": [
    "t1 = (2, 4, 6, 8, 10)\n",
    "total = 0\n",
    "for item in t1:\n",
    "    total += item\n",
    "print(total)"
   ]
  },
  {
   "cell_type": "code",
   "execution_count": 15,
   "id": "2a20777a",
   "metadata": {},
   "outputs": [
    {
     "data": {
      "text/plain": [
       "6.0"
      ]
     },
     "execution_count": 15,
     "metadata": {},
     "output_type": "execute_result"
    }
   ],
   "source": [
    "total/len(t1)"
   ]
  },
  {
   "cell_type": "code",
   "execution_count": 18,
   "id": "75b0b0ac",
   "metadata": {},
   "outputs": [
    {
     "data": {
      "text/plain": [
       "[2, 4, 6, 8, 10]"
      ]
     },
     "execution_count": 18,
     "metadata": {},
     "output_type": "execute_result"
    }
   ],
   "source": [
    "[item for item in t1]"
   ]
  },
  {
   "cell_type": "code",
   "execution_count": null,
   "id": "40ca872f",
   "metadata": {},
   "outputs": [],
   "source": []
  }
 ],
 "metadata": {
  "kernelspec": {
   "display_name": "Python 3 (ipykernel)",
   "language": "python",
   "name": "python3"
  },
  "language_info": {
   "codemirror_mode": {
    "name": "ipython",
    "version": 3
   },
   "file_extension": ".py",
   "mimetype": "text/x-python",
   "name": "python",
   "nbconvert_exporter": "python",
   "pygments_lexer": "ipython3",
   "version": "3.10.11"
  }
 },
 "nbformat": 4,
 "nbformat_minor": 5
}
